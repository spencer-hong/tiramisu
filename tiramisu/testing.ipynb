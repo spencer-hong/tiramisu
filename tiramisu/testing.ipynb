{
 "cells": [
  {
   "cell_type": "code",
   "execution_count": 1,
   "id": "0e49d9f5",
   "metadata": {
    "ExecuteTime": {
     "end_time": "2022-01-29T08:09:02.596026Z",
     "start_time": "2022-01-29T08:09:02.170774Z"
    }
   },
   "outputs": [],
   "source": [
    "import tiramisu"
   ]
  },
  {
   "cell_type": "code",
   "execution_count": 2,
   "id": "faca86a4",
   "metadata": {
    "ExecuteTime": {
     "end_time": "2022-01-29T08:09:03.190702Z",
     "start_time": "2022-01-29T08:09:03.039086Z"
    }
   },
   "outputs": [],
   "source": [
    "test_dir = '../../../../Desktop/test_files_v2/'\n",
    "\n",
    "\n",
    "test = tiramisu.Base(test_dir, name = 'Test', description = \"This is a test.\")"
   ]
  },
  {
   "cell_type": "code",
   "execution_count": 3,
   "id": "e8a9eb07",
   "metadata": {
    "ExecuteTime": {
     "end_time": "2022-01-29T08:09:03.665692Z",
     "start_time": "2022-01-29T08:09:03.655848Z"
    }
   },
   "outputs": [
    {
     "data": {
      "text/plain": [
       "{   '_baseDir': '/Users/spencerhong/Desktop/test_files_v2/.tiramisu',\n",
       "    '_blackList': ['.git', '.gitignore'],\n",
       "    '_description': 'This is a test.',\n",
       "    '_name': 'Test',\n",
       "    '_validFileTypes': [   '.pdf',\n",
       "                           '.doc',\n",
       "                           '.docx',\n",
       "                           '.ppt',\n",
       "                           '.pptx',\n",
       "                           '.xls',\n",
       "                           '.xlsx',\n",
       "                           '.png',\n",
       "                           '.tiff',\n",
       "                           '.jpg',\n",
       "                           '.zip',\n",
       "                           '.txt',\n",
       "                           '.csv']}"
      ]
     },
     "execution_count": 3,
     "metadata": {},
     "output_type": "execute_result"
    }
   ],
   "source": [
    "test"
   ]
  },
  {
   "cell_type": "code",
   "execution_count": 4,
   "id": "211188bb",
   "metadata": {
    "ExecuteTime": {
     "end_time": "2022-01-29T08:09:05.117972Z",
     "start_time": "2022-01-29T08:09:04.637950Z"
    }
   },
   "outputs": [
    {
     "name": "stdout",
     "output_type": "stream",
     "text": [
      "Wrong filetype: .ipynb is not in our template. \n",
      "Returning Untitled.ipynb as is.\n",
      "Wrong filetype: .ipynb is not in our template. \n",
      "Returning Untitled.ipynb as is.\n",
      "Wrong filetype: .ipynb is not in our template. \n",
      "Returning Untitled.ipynb as is.\n"
     ]
    }
   ],
   "source": [
    "tree = test.digest('/Users/spencerhong/Desktop/test_files_v2/')"
   ]
  },
  {
   "cell_type": "code",
   "execution_count": 5,
   "id": "c5268f12",
   "metadata": {
    "ExecuteTime": {
     "end_time": "2022-01-29T08:09:07.973742Z",
     "start_time": "2022-01-29T08:09:07.970080Z"
    }
   },
   "outputs": [
    {
     "name": "stdout",
     "output_type": "stream",
     "text": [
      "/Users/spencerhong/Desktop/test_files_v2/\n",
      "├── Untitled\n",
      "├── qualified_responses\n",
      "├── qualified_responses.csv\n",
      "└── subfolder\n",
      "    ├── Archive 2\n",
      "    │   ├── Archive\n",
      "    │   │   ├── Untitled\n",
      "    │   │   └── qualified_responses\n",
      "    │   └── Untitled\n",
      "    └── subsubfolder\n",
      "        └── 9577c135aed0430493b9aa41494737b327796\n",
      "\n"
     ]
    }
   ],
   "source": [
    "tree.show()"
   ]
  },
  {
   "cell_type": "code",
   "execution_count": 6,
   "id": "d7dfcb6e",
   "metadata": {
    "ExecuteTime": {
     "end_time": "2022-01-25T16:04:46.825666Z",
     "start_time": "2022-01-25T16:04:46.823053Z"
    }
   },
   "outputs": [],
   "source": [
    "import pandas as pd"
   ]
  },
  {
   "cell_type": "code",
   "execution_count": 7,
   "id": "552f60ed",
   "metadata": {
    "ExecuteTime": {
     "end_time": "2022-01-25T16:04:48.376077Z",
     "start_time": "2022-01-25T16:04:48.335807Z"
    }
   },
   "outputs": [
    {
     "data": {
      "text/html": [
       "<div>\n",
       "<style scoped>\n",
       "    .dataframe tbody tr th:only-of-type {\n",
       "        vertical-align: middle;\n",
       "    }\n",
       "\n",
       "    .dataframe tbody tr th {\n",
       "        vertical-align: top;\n",
       "    }\n",
       "\n",
       "    .dataframe thead th {\n",
       "        text-align: right;\n",
       "    }\n",
       "</style>\n",
       "<table border=\"1\" class=\"dataframe\">\n",
       "  <thead>\n",
       "    <tr style=\"text-align: right;\">\n",
       "      <th></th>\n",
       "      <th>containerID</th>\n",
       "      <th>name</th>\n",
       "      <th>layer</th>\n",
       "      <th>fileExtension</th>\n",
       "      <th>originalPath</th>\n",
       "      <th>tiramisuPath</th>\n",
       "      <th>parentID</th>\n",
       "      <th>hash</th>\n",
       "      <th>time</th>\n",
       "    </tr>\n",
       "  </thead>\n",
       "  <tbody>\n",
       "    <tr>\n",
       "      <th>1</th>\n",
       "      <td>0_subfolder+++0xcdec5d37</td>\n",
       "      <td>subfolder</td>\n",
       "      <td>base</td>\n",
       "      <td>.folder</td>\n",
       "      <td>/Users/spencerhong/Documents/GitHub/tiramisu/t...</td>\n",
       "      <td>/Users/spencerhong/Desktop/test_tiramisu/files...</td>\n",
       "      <td>ROOT</td>\n",
       "      <td></td>\n",
       "      <td>2022-01-25 10:04:22.005945</td>\n",
       "    </tr>\n",
       "    <tr>\n",
       "      <th>2</th>\n",
       "      <td>0_qualified_responses+++0x2e7b484a</td>\n",
       "      <td>0_qualified_responses+++0x2e7b484a.csv</td>\n",
       "      <td>base</td>\n",
       "      <td>.csv</td>\n",
       "      <td>/Users/spencerhong/Desktop/test_files/qualifie...</td>\n",
       "      <td>/Users/spencerhong/Desktop/test_tiramisu/files...</td>\n",
       "      <td>ROOT</td>\n",
       "      <td>e3ee879f6584bddefb4d339960d21c44</td>\n",
       "      <td>2022-01-25 10:04:22.011509</td>\n",
       "    </tr>\n",
       "    <tr>\n",
       "      <th>3</th>\n",
       "      <td>0_analysis+++0x802067de</td>\n",
       "      <td>0_analysis+++0x802067de.ipynb</td>\n",
       "      <td>base</td>\n",
       "      <td>.ipynb</td>\n",
       "      <td>/Users/spencerhong/Desktop/test_files/analysis...</td>\n",
       "      <td>/Users/spencerhong/Desktop/test_tiramisu/files...</td>\n",
       "      <td>ROOT</td>\n",
       "      <td>1dad67dc95f9cf4714b3cd6b00dbd949</td>\n",
       "      <td>2022-01-25 10:04:22.019148</td>\n",
       "    </tr>\n",
       "  </tbody>\n",
       "</table>\n",
       "</div>"
      ],
      "text/plain": [
       "                          containerID                                    name  \\\n",
       "1            0_subfolder+++0xcdec5d37                               subfolder   \n",
       "2  0_qualified_responses+++0x2e7b484a  0_qualified_responses+++0x2e7b484a.csv   \n",
       "3             0_analysis+++0x802067de           0_analysis+++0x802067de.ipynb   \n",
       "\n",
       "  layer fileExtension                                       originalPath  \\\n",
       "1  base       .folder  /Users/spencerhong/Documents/GitHub/tiramisu/t...   \n",
       "2  base          .csv  /Users/spencerhong/Desktop/test_files/qualifie...   \n",
       "3  base        .ipynb  /Users/spencerhong/Desktop/test_files/analysis...   \n",
       "\n",
       "                                        tiramisuPath parentID  \\\n",
       "1  /Users/spencerhong/Desktop/test_tiramisu/files...     ROOT   \n",
       "2  /Users/spencerhong/Desktop/test_tiramisu/files...     ROOT   \n",
       "3  /Users/spencerhong/Desktop/test_tiramisu/files...     ROOT   \n",
       "\n",
       "                               hash                       time  \n",
       "1                                   2022-01-25 10:04:22.005945  \n",
       "2  e3ee879f6584bddefb4d339960d21c44 2022-01-25 10:04:22.011509  \n",
       "3  1dad67dc95f9cf4714b3cd6b00dbd949 2022-01-25 10:04:22.019148  "
      ]
     },
     "execution_count": 7,
     "metadata": {},
     "output_type": "execute_result"
    }
   ],
   "source": [
    "df = pd.read_parquet(test_dir + 'databases/main.parquet')\n",
    "df.head(3)"
   ]
  },
  {
   "cell_type": "markdown",
   "id": "0f947580",
   "metadata": {},
   "source": [
    "## commit-revert dynamic"
   ]
  },
  {
   "cell_type": "code",
   "execution_count": 8,
   "id": "e2415a35",
   "metadata": {
    "ExecuteTime": {
     "end_time": "2022-01-25T16:04:54.571993Z",
     "start_time": "2022-01-25T16:04:54.518864Z"
    }
   },
   "outputs": [
    {
     "name": "stdout",
     "output_type": "stream",
     "text": [
      "Commit                                   Date                      Description\n",
      "======                                   ======                    ======\n",
      "25e9a73aaff6fc0e67014b84eca50f02df70326a Tue Jan 25 16:04:22 2022  0000 == initial digestion complete == 0000\n"
     ]
    }
   ],
   "source": [
    "test.return_commit_timeline()"
   ]
  },
  {
   "cell_type": "markdown",
   "id": "f2571688",
   "metadata": {},
   "source": [
    "### change one file"
   ]
  },
  {
   "cell_type": "code",
   "execution_count": 9,
   "id": "0166deae",
   "metadata": {
    "ExecuteTime": {
     "end_time": "2022-01-25T16:06:34.001657Z",
     "start_time": "2022-01-25T16:06:33.838086Z"
    }
   },
   "outputs": [],
   "source": [
    "test.create_layer('layer 1 description', 1 )"
   ]
  },
  {
   "cell_type": "code",
   "execution_count": 10,
   "id": "64046401",
   "metadata": {
    "ExecuteTime": {
     "end_time": "2022-01-25T16:06:35.421491Z",
     "start_time": "2022-01-25T16:06:35.368366Z"
    }
   },
   "outputs": [
    {
     "name": "stdout",
     "output_type": "stream",
     "text": [
      "Commit                                   Date                      Description\n",
      "======                                   ======                    ======\n",
      "1be8140eb76f0d1ba0a49f7c564057f112c230f2 Tue Jan 25 16:06:33 2022  1 == layer 1 description == 1\n",
      "25e9a73aaff6fc0e67014b84eca50f02df70326a Tue Jan 25 16:04:22 2022  0000 == initial digestion complete == 0000\n"
     ]
    }
   ],
   "source": [
    "test.return_commit_timeline()"
   ]
  },
  {
   "cell_type": "code",
   "execution_count": 11,
   "id": "d2d58bfb",
   "metadata": {
    "ExecuteTime": {
     "end_time": "2022-01-25T16:06:42.409649Z",
     "start_time": "2022-01-25T16:06:42.321888Z"
    }
   },
   "outputs": [],
   "source": [
    "test.delete_layer(1)"
   ]
  },
  {
   "cell_type": "code",
   "execution_count": 12,
   "id": "f9f60f7f",
   "metadata": {
    "ExecuteTime": {
     "end_time": "2022-01-25T16:06:43.626587Z",
     "start_time": "2022-01-25T16:06:43.573869Z"
    }
   },
   "outputs": [
    {
     "name": "stdout",
     "output_type": "stream",
     "text": [
      "Commit                                   Date                      Description\n",
      "======                                   ======                    ======\n",
      "836ca9844039834b6b2996dc9dc9b04d5308be1b Tue Jan 25 16:06:42 2022  Revert \"1 == layer 1 description == 1\"\n",
      "\n",
      "This reverts commit 1be8140eb76f0d1ba0a49f7c564057f112c230f2.\n",
      "\n",
      "1be8140eb76f0d1ba0a49f7c564057f112c230f2 Tue Jan 25 16:06:33 2022  1 == layer 1 description == 1\n",
      "25e9a73aaff6fc0e67014b84eca50f02df70326a Tue Jan 25 16:04:22 2022  0000 == initial digestion complete == 0000\n"
     ]
    }
   ],
   "source": [
    "test.return_commit_timeline()"
   ]
  },
  {
   "cell_type": "code",
   "execution_count": 13,
   "id": "36d7e43f",
   "metadata": {
    "ExecuteTime": {
     "end_time": "2022-01-25T16:06:53.419533Z",
     "start_time": "2022-01-25T16:06:53.416588Z"
    }
   },
   "outputs": [],
   "source": [
    "del test\n",
    "del tree"
   ]
  },
  {
   "cell_type": "markdown",
   "id": "f906d332",
   "metadata": {},
   "source": [
    "## we can load the serialized form of the tree from JSON :)"
   ]
  },
  {
   "cell_type": "code",
   "execution_count": 14,
   "id": "d2702c75",
   "metadata": {
    "ExecuteTime": {
     "end_time": "2022-01-25T16:06:55.348322Z",
     "start_time": "2022-01-25T16:06:55.335265Z"
    }
   },
   "outputs": [
    {
     "name": "stdout",
     "output_type": "stream",
     "text": [
      "/Users/spencerhong/Desktop/test_files/\n",
      "├── analysis\n",
      "├── qualified_responses\n",
      "└── subfolder\n",
      "    ├── outerZip\n",
      "    │   ├── Archive\n",
      "    │   │   ├── ContentView\n",
      "    │   │   └── docutoolv2App\n",
      "    │   └── responses_v2\n",
      "    └── subsubfolder\n",
      "        └── 9577c135aed0430493b9aa41494737b327796\n",
      "\n"
     ]
    }
   ],
   "source": [
    "test = tiramisu.Tiramisu(test_dir, name = 'Test', description = \"This is a test.\")\n",
    "\n",
    "tree = test.load_tree()\n",
    "\n",
    "tree.show()"
   ]
  },
  {
   "cell_type": "markdown",
   "id": "1967f72d",
   "metadata": {},
   "source": [
    "### questions for helio:\n",
    "- git revert as deleting a layer? or a hard reset? or should i checkout a branch?\n",
    "- other potentially useful api functions?\n",
    "- I don't save commmit-pipeline dictionaries or other potentially efficient methods --> want to save all sources of data in one place (git commit logs)\n",
    "    - if i were to have a commit dataframe, it could create issues of detached commits because of failure to update in multiple places"
   ]
  },
  {
   "cell_type": "code",
   "execution_count": null,
   "id": "b07ce4ee",
   "metadata": {},
   "outputs": [],
   "source": []
  }
 ],
 "metadata": {
  "kernelspec": {
   "display_name": "Python 3 (ipykernel)",
   "language": "python",
   "name": "python3"
  },
  "language_info": {
   "codemirror_mode": {
    "name": "ipython",
    "version": 3
   },
   "file_extension": ".py",
   "mimetype": "text/x-python",
   "name": "python",
   "nbconvert_exporter": "python",
   "pygments_lexer": "ipython3",
   "version": "3.7.11"
  },
  "latex_envs": {
   "LaTeX_envs_menu_present": true,
   "autoclose": false,
   "autocomplete": true,
   "bibliofile": "biblio.bib",
   "cite_by": "apalike",
   "current_citInitial": 1,
   "eqLabelWithNumbers": true,
   "eqNumInitial": 1,
   "hotkeys": {
    "equation": "Ctrl-E",
    "itemize": "Ctrl-I"
   },
   "labels_anchors": false,
   "latex_user_defs": false,
   "report_style_numbering": false,
   "user_envs_cfg": false
  },
  "toc": {
   "base_numbering": 1,
   "nav_menu": {},
   "number_sections": false,
   "sideBar": true,
   "skip_h1_title": false,
   "title_cell": "Table of Contents",
   "title_sidebar": "Contents",
   "toc_cell": false,
   "toc_position": {},
   "toc_section_display": true,
   "toc_window_display": false
  },
  "varInspector": {
   "cols": {
    "lenName": 16,
    "lenType": 16,
    "lenVar": 40
   },
   "kernels_config": {
    "python": {
     "delete_cmd_postfix": "",
     "delete_cmd_prefix": "del ",
     "library": "var_list.py",
     "varRefreshCmd": "print(var_dic_list())"
    },
    "r": {
     "delete_cmd_postfix": ") ",
     "delete_cmd_prefix": "rm(",
     "library": "var_list.r",
     "varRefreshCmd": "cat(var_dic_list()) "
    }
   },
   "types_to_exclude": [
    "module",
    "function",
    "builtin_function_or_method",
    "instance",
    "_Feature"
   ],
   "window_display": false
  }
 },
 "nbformat": 4,
 "nbformat_minor": 5
}
