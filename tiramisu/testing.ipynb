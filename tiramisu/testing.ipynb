{
 "cells": [
  {
   "cell_type": "code",
   "execution_count": 1,
   "id": "0e49d9f5",
   "metadata": {
    "ExecuteTime": {
     "end_time": "2022-01-24T23:44:56.273488Z",
     "start_time": "2022-01-24T23:44:55.711426Z"
    }
   },
   "outputs": [],
   "source": [
    "import tiramisu"
   ]
  },
  {
   "cell_type": "code",
   "execution_count": 2,
   "id": "faca86a4",
   "metadata": {
    "ExecuteTime": {
     "end_time": "2022-01-24T23:44:56.961128Z",
     "start_time": "2022-01-24T23:44:56.819943Z"
    }
   },
   "outputs": [],
   "source": [
    "test_dir = '../../../../Desktop/test_tiramisu/'\n",
    "\n",
    "\n",
    "test = tiramisu.Tiramisu(test_dir, name = 'Test', description = \"This is a test.\")"
   ]
  },
  {
   "cell_type": "code",
   "execution_count": 3,
   "id": "e8a9eb07",
   "metadata": {
    "ExecuteTime": {
     "end_time": "2022-01-24T23:44:57.770484Z",
     "start_time": "2022-01-24T23:44:57.759434Z"
    }
   },
   "outputs": [
    {
     "data": {
      "text/plain": [
       "{   '_baseDir': '/Users/spencerhong/Desktop/test_tiramisu',\n",
       "    '_blackList': ['.git'],\n",
       "    '_description': 'This is a test.',\n",
       "    '_name': 'Test',\n",
       "    '_validFileTypes': [   '.pdf',\n",
       "                           '.doc',\n",
       "                           '.docx',\n",
       "                           '.ppt',\n",
       "                           '.pptx',\n",
       "                           '.xls',\n",
       "                           '.xlsx',\n",
       "                           '.png',\n",
       "                           '.tiff',\n",
       "                           '.jpg',\n",
       "                           '.zip',\n",
       "                           '.txt',\n",
       "                           '.csv']}"
      ]
     },
     "execution_count": 3,
     "metadata": {},
     "output_type": "execute_result"
    }
   ],
   "source": [
    "test"
   ]
  },
  {
   "cell_type": "code",
   "execution_count": 4,
   "id": "211188bb",
   "metadata": {
    "ExecuteTime": {
     "end_time": "2022-01-24T23:44:59.150043Z",
     "start_time": "2022-01-24T23:44:58.644985Z"
    }
   },
   "outputs": [
    {
     "name": "stdout",
     "output_type": "stream",
     "text": [
      "Wrong filetype: .ipynb is not in our template. \n",
      "Returning 0_analysis+++0x802067de.ipynb as is.\n",
      "Wrong filetype: .swift is not in our template. \n",
      "Returning 0_docutoolv2App+++0xa00d3674.swift as is.\n",
      "Wrong filetype: .swift is not in our template. \n",
      "Returning 0_ContentView+++0xe100d648.swift as is.\n"
     ]
    }
   ],
   "source": [
    "tree = test.digest('/Users/spencerhong/Desktop/test_files/')"
   ]
  },
  {
   "cell_type": "code",
   "execution_count": 5,
   "id": "c5268f12",
   "metadata": {
    "ExecuteTime": {
     "end_time": "2022-01-24T23:45:00.474703Z",
     "start_time": "2022-01-24T23:45:00.471604Z"
    }
   },
   "outputs": [
    {
     "name": "stdout",
     "output_type": "stream",
     "text": [
      "/Users/spencerhong/Desktop/test_files/\n",
      "├── analysis\n",
      "├── qualified_responses\n",
      "└── subfolder\n",
      "    ├── outerZip\n",
      "    │   ├── Archive\n",
      "    │   │   ├── ContentView\n",
      "    │   │   └── docutoolv2App\n",
      "    │   └── responses_v2\n",
      "    └── subsubfolder\n",
      "        └── 9577c135aed0430493b9aa41494737b327796\n",
      "\n"
     ]
    }
   ],
   "source": [
    "tree.show()"
   ]
  },
  {
   "cell_type": "code",
   "execution_count": 6,
   "id": "d7dfcb6e",
   "metadata": {
    "ExecuteTime": {
     "end_time": "2022-01-24T23:45:02.761118Z",
     "start_time": "2022-01-24T23:45:02.758635Z"
    }
   },
   "outputs": [],
   "source": [
    "import pandas as pd"
   ]
  },
  {
   "cell_type": "code",
   "execution_count": 7,
   "id": "552f60ed",
   "metadata": {
    "ExecuteTime": {
     "end_time": "2022-01-24T23:45:03.382444Z",
     "start_time": "2022-01-24T23:45:03.340412Z"
    }
   },
   "outputs": [
    {
     "data": {
      "text/html": [
       "<div>\n",
       "<style scoped>\n",
       "    .dataframe tbody tr th:only-of-type {\n",
       "        vertical-align: middle;\n",
       "    }\n",
       "\n",
       "    .dataframe tbody tr th {\n",
       "        vertical-align: top;\n",
       "    }\n",
       "\n",
       "    .dataframe thead th {\n",
       "        text-align: right;\n",
       "    }\n",
       "</style>\n",
       "<table border=\"1\" class=\"dataframe\">\n",
       "  <thead>\n",
       "    <tr style=\"text-align: right;\">\n",
       "      <th></th>\n",
       "      <th>containerID</th>\n",
       "      <th>name</th>\n",
       "      <th>layer</th>\n",
       "      <th>fileExtension</th>\n",
       "      <th>originalPath</th>\n",
       "      <th>tiramisuPath</th>\n",
       "      <th>parentID</th>\n",
       "      <th>hash</th>\n",
       "      <th>time</th>\n",
       "    </tr>\n",
       "  </thead>\n",
       "  <tbody>\n",
       "    <tr>\n",
       "      <th>1</th>\n",
       "      <td>0_subfolder+++0xcdec5d37</td>\n",
       "      <td>subfolder</td>\n",
       "      <td>base</td>\n",
       "      <td>.folder</td>\n",
       "      <td>/Users/spencerhong/Documents/GitHub/tiramisu/t...</td>\n",
       "      <td>/Users/spencerhong/Desktop/test_tiramisu/files...</td>\n",
       "      <td>ROOT</td>\n",
       "      <td></td>\n",
       "      <td>2022-01-24 17:44:58.740821</td>\n",
       "    </tr>\n",
       "    <tr>\n",
       "      <th>2</th>\n",
       "      <td>0_qualified_responses+++0x2e7b484a</td>\n",
       "      <td>0_qualified_responses+++0x2e7b484a.csv</td>\n",
       "      <td>base</td>\n",
       "      <td>.csv</td>\n",
       "      <td>/Users/spencerhong/Desktop/test_files/qualifie...</td>\n",
       "      <td>/Users/spencerhong/Desktop/test_tiramisu/files...</td>\n",
       "      <td>ROOT</td>\n",
       "      <td>e3ee879f6584bddefb4d339960d21c44</td>\n",
       "      <td>2022-01-24 17:44:58.745871</td>\n",
       "    </tr>\n",
       "    <tr>\n",
       "      <th>3</th>\n",
       "      <td>0_analysis+++0x802067de</td>\n",
       "      <td>0_analysis+++0x802067de.ipynb</td>\n",
       "      <td>base</td>\n",
       "      <td>.ipynb</td>\n",
       "      <td>/Users/spencerhong/Desktop/test_files/analysis...</td>\n",
       "      <td>/Users/spencerhong/Desktop/test_tiramisu/files...</td>\n",
       "      <td>ROOT</td>\n",
       "      <td>1dad67dc95f9cf4714b3cd6b00dbd949</td>\n",
       "      <td>2022-01-24 17:44:58.752292</td>\n",
       "    </tr>\n",
       "  </tbody>\n",
       "</table>\n",
       "</div>"
      ],
      "text/plain": [
       "                          containerID                                    name  \\\n",
       "1            0_subfolder+++0xcdec5d37                               subfolder   \n",
       "2  0_qualified_responses+++0x2e7b484a  0_qualified_responses+++0x2e7b484a.csv   \n",
       "3             0_analysis+++0x802067de           0_analysis+++0x802067de.ipynb   \n",
       "\n",
       "  layer fileExtension                                       originalPath  \\\n",
       "1  base       .folder  /Users/spencerhong/Documents/GitHub/tiramisu/t...   \n",
       "2  base          .csv  /Users/spencerhong/Desktop/test_files/qualifie...   \n",
       "3  base        .ipynb  /Users/spencerhong/Desktop/test_files/analysis...   \n",
       "\n",
       "                                        tiramisuPath parentID  \\\n",
       "1  /Users/spencerhong/Desktop/test_tiramisu/files...     ROOT   \n",
       "2  /Users/spencerhong/Desktop/test_tiramisu/files...     ROOT   \n",
       "3  /Users/spencerhong/Desktop/test_tiramisu/files...     ROOT   \n",
       "\n",
       "                               hash                       time  \n",
       "1                                   2022-01-24 17:44:58.740821  \n",
       "2  e3ee879f6584bddefb4d339960d21c44 2022-01-24 17:44:58.745871  \n",
       "3  1dad67dc95f9cf4714b3cd6b00dbd949 2022-01-24 17:44:58.752292  "
      ]
     },
     "execution_count": 7,
     "metadata": {},
     "output_type": "execute_result"
    }
   ],
   "source": [
    "df = pd.read_parquet(test_dir + 'databases/main.parquet')\n",
    "df.head(3)"
   ]
  },
  {
   "cell_type": "markdown",
   "id": "0f947580",
   "metadata": {},
   "source": [
    "## commit-revert dynamic"
   ]
  },
  {
   "cell_type": "code",
   "execution_count": 8,
   "id": "256389bd",
   "metadata": {
    "ExecuteTime": {
     "end_time": "2022-01-24T23:45:05.272793Z",
     "start_time": "2022-01-24T23:45:05.221942Z"
    }
   },
   "outputs": [
    {
     "name": "stdout",
     "output_type": "stream",
     "text": [
      "Commit                                   Date                      Description\n",
      "======                                   ======                    ======\n",
      "883efe087b51cdb5ec142a1c925df99ec94b3771 Mon Jan 24 23:44:59 2022  0000 == initial digestion complete == 0000\n"
     ]
    }
   ],
   "source": [
    "test.return_commit_timeline()"
   ]
  },
  {
   "cell_type": "markdown",
   "id": "9f97d97f",
   "metadata": {},
   "source": [
    "### change one file"
   ]
  },
  {
   "cell_type": "code",
   "execution_count": 9,
   "id": "b6e324d9",
   "metadata": {
    "ExecuteTime": {
     "end_time": "2022-01-24T23:45:42.294209Z",
     "start_time": "2022-01-24T23:45:42.145704Z"
    }
   },
   "outputs": [],
   "source": [
    "test.create_layer('layer 1 description', 1 )"
   ]
  },
  {
   "cell_type": "code",
   "execution_count": 10,
   "id": "bf01f10b",
   "metadata": {
    "ExecuteTime": {
     "end_time": "2022-01-24T23:45:43.307021Z",
     "start_time": "2022-01-24T23:45:43.257687Z"
    }
   },
   "outputs": [
    {
     "name": "stdout",
     "output_type": "stream",
     "text": [
      "Commit                                   Date                      Description\n",
      "======                                   ======                    ======\n",
      "8f2f6252c5020a2886eff656e79156845ce88a9a Mon Jan 24 23:45:42 2022  1 == layer 1 description == 1\n",
      "883efe087b51cdb5ec142a1c925df99ec94b3771 Mon Jan 24 23:44:59 2022  0000 == initial digestion complete == 0000\n"
     ]
    }
   ],
   "source": [
    "test.return_commit_timeline()"
   ]
  },
  {
   "cell_type": "code",
   "execution_count": 11,
   "id": "e933517b",
   "metadata": {
    "ExecuteTime": {
     "end_time": "2022-01-24T23:45:45.779017Z",
     "start_time": "2022-01-24T23:45:45.692002Z"
    }
   },
   "outputs": [],
   "source": [
    "test.delete_layer(1)"
   ]
  },
  {
   "cell_type": "code",
   "execution_count": 12,
   "id": "ba23e106",
   "metadata": {
    "ExecuteTime": {
     "end_time": "2022-01-24T23:45:50.525648Z",
     "start_time": "2022-01-24T23:45:50.476784Z"
    }
   },
   "outputs": [
    {
     "name": "stdout",
     "output_type": "stream",
     "text": [
      "Commit                                   Date                      Description\n",
      "======                                   ======                    ======\n",
      "00831b423397708e66b6b24e4dd1827fb09aea9b Mon Jan 24 23:45:45 2022  Revert \"1 == layer 1 description == 1\"\n",
      "\n",
      "This reverts commit 8f2f6252c5020a2886eff656e79156845ce88a9a.\n",
      "\n",
      "8f2f6252c5020a2886eff656e79156845ce88a9a Mon Jan 24 23:45:42 2022  1 == layer 1 description == 1\n",
      "883efe087b51cdb5ec142a1c925df99ec94b3771 Mon Jan 24 23:44:59 2022  0000 == initial digestion complete == 0000\n"
     ]
    }
   ],
   "source": [
    "test.return_commit_timeline()"
   ]
  },
  {
   "cell_type": "code",
   "execution_count": 13,
   "id": "ab01a5c8",
   "metadata": {
    "ExecuteTime": {
     "end_time": "2022-01-24T23:45:52.817121Z",
     "start_time": "2022-01-24T23:45:52.814185Z"
    }
   },
   "outputs": [],
   "source": [
    "del test\n",
    "del tree"
   ]
  },
  {
   "cell_type": "markdown",
   "id": "5f119124",
   "metadata": {},
   "source": [
    "## we can load the serialized form of the tree from JSON :)"
   ]
  },
  {
   "cell_type": "code",
   "execution_count": 14,
   "id": "0210facd",
   "metadata": {
    "ExecuteTime": {
     "end_time": "2022-01-24T23:45:58.409504Z",
     "start_time": "2022-01-24T23:45:58.400477Z"
    }
   },
   "outputs": [
    {
     "name": "stdout",
     "output_type": "stream",
     "text": [
      "/Users/spencerhong/Desktop/test_files/\n",
      "├── analysis\n",
      "├── qualified_responses\n",
      "└── subfolder\n",
      "    ├── outerZip\n",
      "    │   ├── Archive\n",
      "    │   │   ├── ContentView\n",
      "    │   │   └── docutoolv2App\n",
      "    │   └── responses_v2\n",
      "    └── subsubfolder\n",
      "        └── 9577c135aed0430493b9aa41494737b327796\n",
      "\n"
     ]
    }
   ],
   "source": [
    "test = tiramisu.Tiramisu(test_dir, name = 'Test', description = \"This is a test.\")\n",
    "\n",
    "tree = test.load_tree()\n",
    "\n",
    "tree.show()"
   ]
  },
  {
   "cell_type": "markdown",
   "id": "e4f58322",
   "metadata": {},
   "source": [
    "### questions for helio:\n",
    "- git revert as deleting a layer? or a hard reset? or should i checkout a branch?\n",
    "- other potentially useful api functions?\n",
    "- I don't save commmit-pipeline dictionaries or other potentially efficient methods --> want to save all sources of data in one place (git commit logs)\n",
    "    - if i were to have a commit dataframe, it could create issues of detached commits because of failure to update in multiple places"
   ]
  },
  {
   "cell_type": "code",
   "execution_count": null,
   "id": "8880bc5c",
   "metadata": {},
   "outputs": [],
   "source": []
  }
 ],
 "metadata": {
  "kernelspec": {
   "display_name": "Python 3 (ipykernel)",
   "language": "python",
   "name": "python3"
  },
  "language_info": {
   "codemirror_mode": {
    "name": "ipython",
    "version": 3
   },
   "file_extension": ".py",
   "mimetype": "text/x-python",
   "name": "python",
   "nbconvert_exporter": "python",
   "pygments_lexer": "ipython3",
   "version": "3.7.11"
  },
  "latex_envs": {
   "LaTeX_envs_menu_present": true,
   "autoclose": false,
   "autocomplete": true,
   "bibliofile": "biblio.bib",
   "cite_by": "apalike",
   "current_citInitial": 1,
   "eqLabelWithNumbers": true,
   "eqNumInitial": 1,
   "hotkeys": {
    "equation": "Ctrl-E",
    "itemize": "Ctrl-I"
   },
   "labels_anchors": false,
   "latex_user_defs": false,
   "report_style_numbering": false,
   "user_envs_cfg": false
  },
  "toc": {
   "base_numbering": 1,
   "nav_menu": {},
   "number_sections": false,
   "sideBar": true,
   "skip_h1_title": false,
   "title_cell": "Table of Contents",
   "title_sidebar": "Contents",
   "toc_cell": false,
   "toc_position": {},
   "toc_section_display": true,
   "toc_window_display": false
  },
  "varInspector": {
   "cols": {
    "lenName": 16,
    "lenType": 16,
    "lenVar": 40
   },
   "kernels_config": {
    "python": {
     "delete_cmd_postfix": "",
     "delete_cmd_prefix": "del ",
     "library": "var_list.py",
     "varRefreshCmd": "print(var_dic_list())"
    },
    "r": {
     "delete_cmd_postfix": ") ",
     "delete_cmd_prefix": "rm(",
     "library": "var_list.r",
     "varRefreshCmd": "cat(var_dic_list()) "
    }
   },
   "types_to_exclude": [
    "module",
    "function",
    "builtin_function_or_method",
    "instance",
    "_Feature"
   ],
   "window_display": false
  }
 },
 "nbformat": 4,
 "nbformat_minor": 5
}
