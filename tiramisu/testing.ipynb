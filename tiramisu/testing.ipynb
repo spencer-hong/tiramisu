{
 "cells": [
  {
   "cell_type": "code",
   "execution_count": 1,
   "id": "0e49d9f5",
   "metadata": {
    "ExecuteTime": {
     "end_time": "2022-01-24T19:57:18.066728Z",
     "start_time": "2022-01-24T19:57:17.663854Z"
    }
   },
   "outputs": [],
   "source": [
    "import tiramisu"
   ]
  },
  {
   "cell_type": "code",
   "execution_count": 2,
   "id": "faca86a4",
   "metadata": {
    "ExecuteTime": {
     "end_time": "2022-01-24T19:57:18.519559Z",
     "start_time": "2022-01-24T19:57:18.512573Z"
    }
   },
   "outputs": [],
   "source": [
    "test_dir = '../../../../../Desktop/test_tiramisu/'\n",
    "\n",
    "\n",
    "test = tiramisu.Tiramisu(test_dir, name = 'Test', description = \"This is a test.\")"
   ]
  },
  {
   "cell_type": "code",
   "execution_count": 3,
   "id": "e8a9eb07",
   "metadata": {
    "ExecuteTime": {
     "end_time": "2022-01-24T19:56:18.458613Z",
     "start_time": "2022-01-24T19:56:18.447845Z"
    }
   },
   "outputs": [
    {
     "data": {
      "text/plain": [
       "{   '_baseDir': '/Users/spencerhong/Desktop/test_tiramisu',\n",
       "    '_blackList': ['.git'],\n",
       "    '_description': 'This is a test.',\n",
       "    '_name': 'Test',\n",
       "    '_validFileTypes': [   '.pdf',\n",
       "                           '.doc',\n",
       "                           '.docx',\n",
       "                           '.ppt',\n",
       "                           '.pptx',\n",
       "                           '.xls',\n",
       "                           '.xlsx',\n",
       "                           '.png',\n",
       "                           '.tiff',\n",
       "                           '.jpg',\n",
       "                           '.zip',\n",
       "                           '.txt',\n",
       "                           '.csv']}"
      ]
     },
     "execution_count": 3,
     "metadata": {},
     "output_type": "execute_result"
    }
   ],
   "source": [
    "test"
   ]
  },
  {
   "cell_type": "code",
   "execution_count": 4,
   "id": "55997b08",
   "metadata": {
    "ExecuteTime": {
     "end_time": "2022-01-24T19:56:21.870494Z",
     "start_time": "2022-01-24T19:56:21.864020Z"
    }
   },
   "outputs": [],
   "source": [
    "test = tiramisu.Tiramisu(test_dir, name = 'Test', description = \"This is a test.\")"
   ]
  },
  {
   "cell_type": "code",
   "execution_count": 3,
   "id": "211188bb",
   "metadata": {
    "ExecuteTime": {
     "end_time": "2022-01-24T19:57:25.481262Z",
     "start_time": "2022-01-24T19:57:25.129121Z"
    }
   },
   "outputs": [
    {
     "name": "stdout",
     "output_type": "stream",
     "text": [
      "Wrong filetype: .ipynb is not in our template. \n",
      "Returning 0_analysis+++0x802067de.ipynb as is.\n",
      "Wrong filetype: .swift is not in our template. \n",
      "Returning 0_docutoolv2App+++0xa00d3674.swift as is.\n",
      "Wrong filetype: .swift is not in our template. \n",
      "Returning 0_ContentView+++0xe100d648.swift as is.\n"
     ]
    }
   ],
   "source": [
    "tree = test.digest('/Users/spencerhong/Desktop/test_files/')"
   ]
  },
  {
   "cell_type": "code",
   "execution_count": 4,
   "id": "c5268f12",
   "metadata": {
    "ExecuteTime": {
     "end_time": "2022-01-24T19:57:26.953407Z",
     "start_time": "2022-01-24T19:57:26.950361Z"
    }
   },
   "outputs": [
    {
     "name": "stdout",
     "output_type": "stream",
     "text": [
      "/Users/spencerhong/Desktop/test_files/\n",
      "├── analysis\n",
      "├── qualified_responses\n",
      "└── subfolder\n",
      "    ├── outerZip\n",
      "    │   ├── Archive\n",
      "    │   │   ├── ContentView\n",
      "    │   │   └── docutoolv2App\n",
      "    │   └── responses_v2\n",
      "    └── subsubfolder\n",
      "        └── 9577c135aed0430493b9aa41494737b327796\n",
      "\n"
     ]
    }
   ],
   "source": [
    "tree.show()"
   ]
  },
  {
   "cell_type": "code",
   "execution_count": 5,
   "id": "d7dfcb6e",
   "metadata": {
    "ExecuteTime": {
     "end_time": "2022-01-24T19:57:38.971598Z",
     "start_time": "2022-01-24T19:57:38.968749Z"
    }
   },
   "outputs": [],
   "source": [
    "import pandas as pd"
   ]
  },
  {
   "cell_type": "code",
   "execution_count": 6,
   "id": "552f60ed",
   "metadata": {
    "ExecuteTime": {
     "end_time": "2022-01-24T19:57:39.432817Z",
     "start_time": "2022-01-24T19:57:39.411557Z"
    }
   },
   "outputs": [],
   "source": [
    "df = pd.read_parquet(test_dir + 'databases/main.parquet')"
   ]
  },
  {
   "cell_type": "code",
   "execution_count": 7,
   "id": "c7b081d1",
   "metadata": {
    "ExecuteTime": {
     "end_time": "2022-01-24T19:57:40.065962Z",
     "start_time": "2022-01-24T19:57:40.044506Z"
    }
   },
   "outputs": [
    {
     "data": {
      "text/html": [
       "<div>\n",
       "<style scoped>\n",
       "    .dataframe tbody tr th:only-of-type {\n",
       "        vertical-align: middle;\n",
       "    }\n",
       "\n",
       "    .dataframe tbody tr th {\n",
       "        vertical-align: top;\n",
       "    }\n",
       "\n",
       "    .dataframe thead th {\n",
       "        text-align: right;\n",
       "    }\n",
       "</style>\n",
       "<table border=\"1\" class=\"dataframe\">\n",
       "  <thead>\n",
       "    <tr style=\"text-align: right;\">\n",
       "      <th></th>\n",
       "      <th>containerID</th>\n",
       "      <th>name</th>\n",
       "      <th>layer</th>\n",
       "      <th>fileExtension</th>\n",
       "      <th>originalPath</th>\n",
       "      <th>tiramisuPath</th>\n",
       "      <th>parentID</th>\n",
       "      <th>hash</th>\n",
       "      <th>time</th>\n",
       "    </tr>\n",
       "  </thead>\n",
       "  <tbody>\n",
       "    <tr>\n",
       "      <th>1</th>\n",
       "      <td>0_subfolder+++0xcdec5d37</td>\n",
       "      <td>subfolder</td>\n",
       "      <td>base</td>\n",
       "      <td>.folder</td>\n",
       "      <td>/Users/spencerhong/Documents/GitHub/tiramisu/t...</td>\n",
       "      <td>/Users/spencerhong/Desktop/test_tiramisu/files...</td>\n",
       "      <td>ROOT</td>\n",
       "      <td></td>\n",
       "      <td>2022-01-24 13:57:25.229774</td>\n",
       "    </tr>\n",
       "    <tr>\n",
       "      <th>2</th>\n",
       "      <td>0_qualified_responses+++0x2e7b484a</td>\n",
       "      <td>0_qualified_responses+++0x2e7b484a.csv</td>\n",
       "      <td>base</td>\n",
       "      <td>.csv</td>\n",
       "      <td>/Users/spencerhong/Desktop/test_files/qualifie...</td>\n",
       "      <td>/Users/spencerhong/Desktop/test_tiramisu/files...</td>\n",
       "      <td>ROOT</td>\n",
       "      <td>e3ee879f6584bddefb4d339960d21c44</td>\n",
       "      <td>2022-01-24 13:57:25.234695</td>\n",
       "    </tr>\n",
       "    <tr>\n",
       "      <th>3</th>\n",
       "      <td>0_analysis+++0x802067de</td>\n",
       "      <td>0_analysis+++0x802067de.ipynb</td>\n",
       "      <td>base</td>\n",
       "      <td>.ipynb</td>\n",
       "      <td>/Users/spencerhong/Desktop/test_files/analysis...</td>\n",
       "      <td>/Users/spencerhong/Desktop/test_tiramisu/files...</td>\n",
       "      <td>ROOT</td>\n",
       "      <td>1dad67dc95f9cf4714b3cd6b00dbd949</td>\n",
       "      <td>2022-01-24 13:57:25.239230</td>\n",
       "    </tr>\n",
       "    <tr>\n",
       "      <th>4</th>\n",
       "      <td>1_subsubfolder+++0x86ae3018</td>\n",
       "      <td>subsubfolder</td>\n",
       "      <td>base</td>\n",
       "      <td>.folder</td>\n",
       "      <td>/Users/spencerhong/Documents/GitHub/tiramisu/t...</td>\n",
       "      <td>/Users/spencerhong/Desktop/test_tiramisu/files...</td>\n",
       "      <td>0_subfolder+++0xcdec5d37</td>\n",
       "      <td></td>\n",
       "      <td>2022-01-24 13:57:25.296470</td>\n",
       "    </tr>\n",
       "    <tr>\n",
       "      <th>5</th>\n",
       "      <td>1_outerZip+++0x64994b0b</td>\n",
       "      <td>1_outerZip+++0x64994b0b.zip</td>\n",
       "      <td>base</td>\n",
       "      <td>.zip</td>\n",
       "      <td>/Users/spencerhong/Desktop/test_files/subfolde...</td>\n",
       "      <td>/Users/spencerhong/Desktop/test_tiramisu/files...</td>\n",
       "      <td>0_subfolder+++0xcdec5d37</td>\n",
       "      <td>17f9f449ebcc66a16de83c5b75b4818f</td>\n",
       "      <td>2022-01-24 13:57:25.300409</td>\n",
       "    </tr>\n",
       "    <tr>\n",
       "      <th>6</th>\n",
       "      <td>2_9577c135aed0430493b9aa41494737b327796+++0x82...</td>\n",
       "      <td>2_9577c135aed0430493b9aa41494737b327796+++0x82...</td>\n",
       "      <td>base</td>\n",
       "      <td>.tiff</td>\n",
       "      <td>/Users/spencerhong/Desktop/test_files/subfolde...</td>\n",
       "      <td>/Users/spencerhong/Desktop/test_tiramisu/files...</td>\n",
       "      <td>1_subsubfolder+++0x86ae3018</td>\n",
       "      <td>1ee3e9130ee6a2141c1f16ddebcf04c1</td>\n",
       "      <td>2022-01-24 13:57:25.324018</td>\n",
       "    </tr>\n",
       "    <tr>\n",
       "      <th>7</th>\n",
       "      <td>0_responses_v2+++0xbcd3eee6</td>\n",
       "      <td>0_responses_v2+++0xbcd3eee6.csv</td>\n",
       "      <td>base</td>\n",
       "      <td>.csv</td>\n",
       "      <td>/Users/spencerhong/Desktop/test_tiramisu/files...</td>\n",
       "      <td>/Users/spencerhong/Desktop/test_tiramisu/files...</td>\n",
       "      <td>1_outerZip+++0x64994b0b</td>\n",
       "      <td>4dcada414cd6de8d8375b13f8976fc0f</td>\n",
       "      <td>2022-01-24 13:57:25.381771</td>\n",
       "    </tr>\n",
       "    <tr>\n",
       "      <th>8</th>\n",
       "      <td>0_Archive+++0xe79eaa6a</td>\n",
       "      <td>0_Archive+++0xe79eaa6a.zip</td>\n",
       "      <td>base</td>\n",
       "      <td>.zip</td>\n",
       "      <td>/Users/spencerhong/Desktop/test_tiramisu/files...</td>\n",
       "      <td>/Users/spencerhong/Desktop/test_tiramisu/files...</td>\n",
       "      <td>1_outerZip+++0x64994b0b</td>\n",
       "      <td>af48bf1ac59b9479eb3d4202fb9a3ecc</td>\n",
       "      <td>2022-01-24 13:57:25.383167</td>\n",
       "    </tr>\n",
       "    <tr>\n",
       "      <th>9</th>\n",
       "      <td>0_docutoolv2App+++0xa00d3674</td>\n",
       "      <td>0_docutoolv2App+++0xa00d3674.swift</td>\n",
       "      <td>base</td>\n",
       "      <td>.swift</td>\n",
       "      <td>/Users/spencerhong/Desktop/test_tiramisu/files...</td>\n",
       "      <td>/Users/spencerhong/Desktop/test_tiramisu/files...</td>\n",
       "      <td>0_Archive+++0xe79eaa6a</td>\n",
       "      <td>ec1d3fad0019065249c103962d160e3e</td>\n",
       "      <td>2022-01-24 13:57:25.433454</td>\n",
       "    </tr>\n",
       "    <tr>\n",
       "      <th>10</th>\n",
       "      <td>0_ContentView+++0xe100d648</td>\n",
       "      <td>0_ContentView+++0xe100d648.swift</td>\n",
       "      <td>base</td>\n",
       "      <td>.swift</td>\n",
       "      <td>/Users/spencerhong/Desktop/test_tiramisu/files...</td>\n",
       "      <td>/Users/spencerhong/Desktop/test_tiramisu/files...</td>\n",
       "      <td>0_Archive+++0xe79eaa6a</td>\n",
       "      <td>d0a6ed8781ade909b3515c963a070297</td>\n",
       "      <td>2022-01-24 13:57:25.441685</td>\n",
       "    </tr>\n",
       "  </tbody>\n",
       "</table>\n",
       "</div>"
      ],
      "text/plain": [
       "                                          containerID  \\\n",
       "1                            0_subfolder+++0xcdec5d37   \n",
       "2                  0_qualified_responses+++0x2e7b484a   \n",
       "3                             0_analysis+++0x802067de   \n",
       "4                         1_subsubfolder+++0x86ae3018   \n",
       "5                             1_outerZip+++0x64994b0b   \n",
       "6   2_9577c135aed0430493b9aa41494737b327796+++0x82...   \n",
       "7                         0_responses_v2+++0xbcd3eee6   \n",
       "8                              0_Archive+++0xe79eaa6a   \n",
       "9                        0_docutoolv2App+++0xa00d3674   \n",
       "10                         0_ContentView+++0xe100d648   \n",
       "\n",
       "                                                 name layer fileExtension  \\\n",
       "1                                           subfolder  base       .folder   \n",
       "2              0_qualified_responses+++0x2e7b484a.csv  base          .csv   \n",
       "3                       0_analysis+++0x802067de.ipynb  base        .ipynb   \n",
       "4                                        subsubfolder  base       .folder   \n",
       "5                         1_outerZip+++0x64994b0b.zip  base          .zip   \n",
       "6   2_9577c135aed0430493b9aa41494737b327796+++0x82...  base         .tiff   \n",
       "7                     0_responses_v2+++0xbcd3eee6.csv  base          .csv   \n",
       "8                          0_Archive+++0xe79eaa6a.zip  base          .zip   \n",
       "9                  0_docutoolv2App+++0xa00d3674.swift  base        .swift   \n",
       "10                   0_ContentView+++0xe100d648.swift  base        .swift   \n",
       "\n",
       "                                         originalPath  \\\n",
       "1   /Users/spencerhong/Documents/GitHub/tiramisu/t...   \n",
       "2   /Users/spencerhong/Desktop/test_files/qualifie...   \n",
       "3   /Users/spencerhong/Desktop/test_files/analysis...   \n",
       "4   /Users/spencerhong/Documents/GitHub/tiramisu/t...   \n",
       "5   /Users/spencerhong/Desktop/test_files/subfolde...   \n",
       "6   /Users/spencerhong/Desktop/test_files/subfolde...   \n",
       "7   /Users/spencerhong/Desktop/test_tiramisu/files...   \n",
       "8   /Users/spencerhong/Desktop/test_tiramisu/files...   \n",
       "9   /Users/spencerhong/Desktop/test_tiramisu/files...   \n",
       "10  /Users/spencerhong/Desktop/test_tiramisu/files...   \n",
       "\n",
       "                                         tiramisuPath  \\\n",
       "1   /Users/spencerhong/Desktop/test_tiramisu/files...   \n",
       "2   /Users/spencerhong/Desktop/test_tiramisu/files...   \n",
       "3   /Users/spencerhong/Desktop/test_tiramisu/files...   \n",
       "4   /Users/spencerhong/Desktop/test_tiramisu/files...   \n",
       "5   /Users/spencerhong/Desktop/test_tiramisu/files...   \n",
       "6   /Users/spencerhong/Desktop/test_tiramisu/files...   \n",
       "7   /Users/spencerhong/Desktop/test_tiramisu/files...   \n",
       "8   /Users/spencerhong/Desktop/test_tiramisu/files...   \n",
       "9   /Users/spencerhong/Desktop/test_tiramisu/files...   \n",
       "10  /Users/spencerhong/Desktop/test_tiramisu/files...   \n",
       "\n",
       "                       parentID                              hash  \\\n",
       "1                          ROOT                                     \n",
       "2                          ROOT  e3ee879f6584bddefb4d339960d21c44   \n",
       "3                          ROOT  1dad67dc95f9cf4714b3cd6b00dbd949   \n",
       "4      0_subfolder+++0xcdec5d37                                     \n",
       "5      0_subfolder+++0xcdec5d37  17f9f449ebcc66a16de83c5b75b4818f   \n",
       "6   1_subsubfolder+++0x86ae3018  1ee3e9130ee6a2141c1f16ddebcf04c1   \n",
       "7       1_outerZip+++0x64994b0b  4dcada414cd6de8d8375b13f8976fc0f   \n",
       "8       1_outerZip+++0x64994b0b  af48bf1ac59b9479eb3d4202fb9a3ecc   \n",
       "9        0_Archive+++0xe79eaa6a  ec1d3fad0019065249c103962d160e3e   \n",
       "10       0_Archive+++0xe79eaa6a  d0a6ed8781ade909b3515c963a070297   \n",
       "\n",
       "                         time  \n",
       "1  2022-01-24 13:57:25.229774  \n",
       "2  2022-01-24 13:57:25.234695  \n",
       "3  2022-01-24 13:57:25.239230  \n",
       "4  2022-01-24 13:57:25.296470  \n",
       "5  2022-01-24 13:57:25.300409  \n",
       "6  2022-01-24 13:57:25.324018  \n",
       "7  2022-01-24 13:57:25.381771  \n",
       "8  2022-01-24 13:57:25.383167  \n",
       "9  2022-01-24 13:57:25.433454  \n",
       "10 2022-01-24 13:57:25.441685  "
      ]
     },
     "execution_count": 7,
     "metadata": {},
     "output_type": "execute_result"
    }
   ],
   "source": [
    "df"
   ]
  },
  {
   "cell_type": "markdown",
   "id": "0f947580",
   "metadata": {},
   "source": [
    "## initial commit is the base digestion"
   ]
  },
  {
   "cell_type": "code",
   "execution_count": null,
   "id": "cafb944e",
   "metadata": {},
   "outputs": [],
   "source": []
  }
 ],
 "metadata": {
  "kernelspec": {
   "display_name": "Python 3 (ipykernel)",
   "language": "python",
   "name": "python3"
  },
  "language_info": {
   "codemirror_mode": {
    "name": "ipython",
    "version": 3
   },
   "file_extension": ".py",
   "mimetype": "text/x-python",
   "name": "python",
   "nbconvert_exporter": "python",
   "pygments_lexer": "ipython3",
   "version": "3.7.11"
  },
  "latex_envs": {
   "LaTeX_envs_menu_present": true,
   "autoclose": false,
   "autocomplete": true,
   "bibliofile": "biblio.bib",
   "cite_by": "apalike",
   "current_citInitial": 1,
   "eqLabelWithNumbers": true,
   "eqNumInitial": 1,
   "hotkeys": {
    "equation": "Ctrl-E",
    "itemize": "Ctrl-I"
   },
   "labels_anchors": false,
   "latex_user_defs": false,
   "report_style_numbering": false,
   "user_envs_cfg": false
  },
  "toc": {
   "base_numbering": 1,
   "nav_menu": {},
   "number_sections": false,
   "sideBar": true,
   "skip_h1_title": false,
   "title_cell": "Table of Contents",
   "title_sidebar": "Contents",
   "toc_cell": false,
   "toc_position": {},
   "toc_section_display": true,
   "toc_window_display": false
  },
  "varInspector": {
   "cols": {
    "lenName": 16,
    "lenType": 16,
    "lenVar": 40
   },
   "kernels_config": {
    "python": {
     "delete_cmd_postfix": "",
     "delete_cmd_prefix": "del ",
     "library": "var_list.py",
     "varRefreshCmd": "print(var_dic_list())"
    },
    "r": {
     "delete_cmd_postfix": ") ",
     "delete_cmd_prefix": "rm(",
     "library": "var_list.r",
     "varRefreshCmd": "cat(var_dic_list()) "
    }
   },
   "types_to_exclude": [
    "module",
    "function",
    "builtin_function_or_method",
    "instance",
    "_Feature"
   ],
   "window_display": false
  }
 },
 "nbformat": 4,
 "nbformat_minor": 5
}
