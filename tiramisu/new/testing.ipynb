{
 "cells": [
  {
   "cell_type": "code",
   "execution_count": 1,
   "id": "0e49d9f5",
   "metadata": {
    "ExecuteTime": {
     "end_time": "2022-01-21T04:21:30.354938Z",
     "start_time": "2022-01-21T04:21:30.227195Z"
    }
   },
   "outputs": [],
   "source": [
    "import tiramisu"
   ]
  },
  {
   "cell_type": "code",
   "execution_count": 2,
   "id": "faca86a4",
   "metadata": {
    "ExecuteTime": {
     "end_time": "2022-01-21T04:21:45.230852Z",
     "start_time": "2022-01-21T04:21:45.094122Z"
    }
   },
   "outputs": [],
   "source": [
    "test_dir = '../../../../../Desktop/test_tiramisu/'\n",
    "\n",
    "\n",
    "test = tiramisu.Tiramisu(test_dir, name = 'Test', description = \"This is a test.\")"
   ]
  },
  {
   "cell_type": "code",
   "execution_count": 3,
   "id": "7a1fc799",
   "metadata": {
    "ExecuteTime": {
     "end_time": "2022-01-21T04:21:45.688068Z",
     "start_time": "2022-01-21T04:21:45.677457Z"
    }
   },
   "outputs": [
    {
     "data": {
      "text/plain": [
       "{   '_baseDir': '/Users/spencerhong/Desktop/test_tiramisu',\n",
       "    '_blackList': None,\n",
       "    '_description': 'This is a test.',\n",
       "    '_name': 'Test',\n",
       "    '_validFileTypes': [   '.pdf',\n",
       "                           '.doc',\n",
       "                           '.docx',\n",
       "                           '.ppt',\n",
       "                           '.pptx',\n",
       "                           '.xls',\n",
       "                           '.xlsx',\n",
       "                           '.png',\n",
       "                           '.tiff',\n",
       "                           '.jpg']}"
      ]
     },
     "execution_count": 3,
     "metadata": {},
     "output_type": "execute_result"
    }
   ],
   "source": [
    "test"
   ]
  },
  {
   "cell_type": "code",
   "execution_count": 4,
   "id": "668be310",
   "metadata": {
    "ExecuteTime": {
     "end_time": "2022-01-21T04:21:47.151930Z",
     "start_time": "2022-01-21T04:21:47.144980Z"
    }
   },
   "outputs": [],
   "source": [
    "test = tiramisu.Tiramisu(test_dir, name = 'Test', description = \"This is a test.\")"
   ]
  },
  {
   "cell_type": "code",
   "execution_count": 5,
   "id": "356e397d",
   "metadata": {
    "ExecuteTime": {
     "end_time": "2022-01-21T04:21:49.279161Z",
     "start_time": "2022-01-21T04:21:49.251808Z"
    }
   },
   "outputs": [
    {
     "data": {
      "text/plain": [
       "[]"
      ]
     },
     "execution_count": 5,
     "metadata": {},
     "output_type": "execute_result"
    }
   ],
   "source": [
    "[ item.a_path for item in test.repo.index.diff(None) ]"
   ]
  },
  {
   "cell_type": "code",
   "execution_count": 6,
   "id": "84abff3f",
   "metadata": {
    "ExecuteTime": {
     "end_time": "2022-01-21T04:21:51.170621Z",
     "start_time": "2022-01-21T04:21:51.120184Z"
    }
   },
   "outputs": [],
   "source": [
    "staged_files = test.repo.index.diff(None)"
   ]
  },
  {
   "cell_type": "code",
   "execution_count": 7,
   "id": "7c1cd199",
   "metadata": {
    "ExecuteTime": {
     "end_time": "2022-01-21T04:21:53.381221Z",
     "start_time": "2022-01-21T04:21:53.377001Z"
    }
   },
   "outputs": [
    {
     "data": {
      "text/plain": [
       "[]"
      ]
     },
     "execution_count": 7,
     "metadata": {},
     "output_type": "execute_result"
    }
   ],
   "source": [
    "staged_files"
   ]
  },
  {
   "cell_type": "code",
   "execution_count": null,
   "id": "46b41573",
   "metadata": {},
   "outputs": [],
   "source": []
  }
 ],
 "metadata": {
  "kernelspec": {
   "display_name": "Python 3 (ipykernel)",
   "language": "python",
   "name": "python3"
  },
  "language_info": {
   "codemirror_mode": {
    "name": "ipython",
    "version": 3
   },
   "file_extension": ".py",
   "mimetype": "text/x-python",
   "name": "python",
   "nbconvert_exporter": "python",
   "pygments_lexer": "ipython3",
   "version": "3.7.11"
  },
  "latex_envs": {
   "LaTeX_envs_menu_present": true,
   "autoclose": false,
   "autocomplete": true,
   "bibliofile": "biblio.bib",
   "cite_by": "apalike",
   "current_citInitial": 1,
   "eqLabelWithNumbers": true,
   "eqNumInitial": 1,
   "hotkeys": {
    "equation": "Ctrl-E",
    "itemize": "Ctrl-I"
   },
   "labels_anchors": false,
   "latex_user_defs": false,
   "report_style_numbering": false,
   "user_envs_cfg": false
  },
  "toc": {
   "base_numbering": 1,
   "nav_menu": {},
   "number_sections": false,
   "sideBar": true,
   "skip_h1_title": false,
   "title_cell": "Table of Contents",
   "title_sidebar": "Contents",
   "toc_cell": false,
   "toc_position": {},
   "toc_section_display": true,
   "toc_window_display": false
  },
  "varInspector": {
   "cols": {
    "lenName": 16,
    "lenType": 16,
    "lenVar": 40
   },
   "kernels_config": {
    "python": {
     "delete_cmd_postfix": "",
     "delete_cmd_prefix": "del ",
     "library": "var_list.py",
     "varRefreshCmd": "print(var_dic_list())"
    },
    "r": {
     "delete_cmd_postfix": ") ",
     "delete_cmd_prefix": "rm(",
     "library": "var_list.r",
     "varRefreshCmd": "cat(var_dic_list()) "
    }
   },
   "types_to_exclude": [
    "module",
    "function",
    "builtin_function_or_method",
    "instance",
    "_Feature"
   ],
   "window_display": false
  }
 },
 "nbformat": 4,
 "nbformat_minor": 5
}
