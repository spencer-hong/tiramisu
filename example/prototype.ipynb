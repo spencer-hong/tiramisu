{
 "cells": [
  {
   "cell_type": "code",
   "execution_count": 28,
   "id": "e57c24fb",
   "metadata": {
    "ExecuteTime": {
     "end_time": "2021-11-24T18:19:05.686776Z",
     "start_time": "2021-11-24T18:19:05.683959Z"
    }
   },
   "outputs": [],
   "source": [
    "import sys\n",
    "sys.path.insert(0,'../src/')\n",
    "\n",
    "import base\n",
    "import pandas as pd"
   ]
  },
  {
   "cell_type": "code",
   "execution_count": 6,
   "id": "436ca497",
   "metadata": {
    "ExecuteTime": {
     "end_time": "2021-11-23T01:54:25.876558Z",
     "start_time": "2021-11-23T01:54:25.873905Z"
    }
   },
   "outputs": [],
   "source": [
    "fake_folder_with_files = '/Users/spencerhong/Downloads/test_folder/'\n",
    "fake_base = '/Users/spencerhong/Downloads/test_base/'\n",
    "\n",
    "test_base = base.Base(fake_base, description = 'test')"
   ]
  },
  {
   "cell_type": "markdown",
   "id": "689c93f2",
   "metadata": {},
   "source": [
    "    in fake_folder_with_files, we have 4 files. each are renamed to an integer ID."
   ]
  },
  {
   "cell_type": "code",
   "execution_count": 7,
   "id": "012628f8",
   "metadata": {
    "ExecuteTime": {
     "end_time": "2021-11-23T01:54:27.186059Z",
     "start_time": "2021-11-23T01:54:27.158452Z"
    }
   },
   "outputs": [],
   "source": [
    "test_base.prepare_base(fake_folder_with_files)"
   ]
  },
  {
   "cell_type": "code",
   "execution_count": 19,
   "id": "f35caa0a",
   "metadata": {
    "ExecuteTime": {
     "end_time": "2021-11-24T17:13:08.923522Z",
     "start_time": "2021-11-24T17:13:08.908422Z"
    }
   },
   "outputs": [
    {
     "data": {
      "text/plain": [
       "{1: 0, 2: 0, 3: 0, 4: 1, 5: 1, 6: 4, 7: 4}"
      ]
     },
     "execution_count": 19,
     "metadata": {},
     "output_type": "execute_result"
    }
   ],
   "source": [
    "test_base.database.set_index('containerID')['parentID'].to_dict()"
   ]
  },
  {
   "cell_type": "code",
   "execution_count": 51,
   "id": "c60321ec",
   "metadata": {
    "ExecuteTime": {
     "end_time": "2021-11-24T20:57:25.083067Z",
     "start_time": "2021-11-24T20:57:25.072410Z"
    }
   },
   "outputs": [],
   "source": [
    "counter = 0\n",
    "ids = {}\n",
    "layer_path = '/Users/spencerhong/Downloads/test_base/first/'\n",
    "\n",
    "for file in base.get_all_files('/Users/spencerhong/Downloads/test_base/first/'):\n",
    "    if file.suffix == '.folder':\n",
    "        ids[counter] = {'containerID': int(file.stem.lstrip('f')), 'filePhase': 'first', \\\n",
    "                                  'fileExtension': '.folder', 'originalName': file.name,\n",
    "                                  'originalPath': file.as_posix(),\n",
    "                                  'relativePath': file.relative_to(layer_path).as_posix(), \\\n",
    "                                  'parentID': int(file.parent.name)}\n",
    "    else:\n",
    "        if not file.is_dir():\n",
    "            ids[counter] = {'containerID': int(file.parent.stem.lstrip('f')), 'filePhase': 'first', \\\n",
    "                            'fileExtension': file.parent.suffix, 'originalName': file.name, 'originalPath': file.as_posix(), \\\n",
    "                            'relativePath': file.relative_to(layer_path).as_posix(), \\\n",
    "                            'parentID': int(return_parent(int(file.parent.stem.lstrip('f'))))}\n",
    "        # else:\n",
    "        # \ttry:\n",
    "        # \t\tori_parent = self.database.set_index('containerID')['parentID'].to_dict()[int(file.stem.lstrip('f'))]\n",
    "        # \texcept:\n",
    "        # \t\tprint('no parent found!!')\n",
    "        # \t\tprint(file)\n",
    "        # \tids[counter] = {'containerID': file.stem.lstrip('f'), 'filePhase': layer_name, \\\n",
    "        # \t\t\t\t\t'fileExtension': file.suffix, 'originalName': file.name,\n",
    "        # \t\t\t\t\t'originalPath': file.as_posix(), \\\n",
    "        # \t\t\t\t\t'relativePath': file.relative_to(layer_path).as_posix(), \\\n",
    "        # \t\t\t\t\t'parentID': parent.name}\n",
    "\n",
    "\n",
    "    counter += 1"
   ]
  },
  {
   "cell_type": "code",
   "execution_count": 38,
   "id": "d712ff43",
   "metadata": {
    "ExecuteTime": {
     "end_time": "2021-11-24T18:41:34.924606Z",
     "start_time": "2021-11-24T18:41:34.908981Z"
    }
   },
   "outputs": [
    {
     "data": {
      "text/html": [
       "<div>\n",
       "<style scoped>\n",
       "    .dataframe tbody tr th:only-of-type {\n",
       "        vertical-align: middle;\n",
       "    }\n",
       "\n",
       "    .dataframe tbody tr th {\n",
       "        vertical-align: top;\n",
       "    }\n",
       "\n",
       "    .dataframe thead th {\n",
       "        text-align: right;\n",
       "    }\n",
       "</style>\n",
       "<table border=\"1\" class=\"dataframe\">\n",
       "  <thead>\n",
       "    <tr style=\"text-align: right;\">\n",
       "      <th></th>\n",
       "      <th>containerID</th>\n",
       "      <th>filePhase</th>\n",
       "      <th>fileExtension</th>\n",
       "      <th>originalName</th>\n",
       "      <th>originalPath</th>\n",
       "      <th>relativePath</th>\n",
       "      <th>parentID</th>\n",
       "    </tr>\n",
       "  </thead>\n",
       "  <tbody>\n",
       "    <tr>\n",
       "      <th>4</th>\n",
       "      <td>8</td>\n",
       "      <td>first</td>\n",
       "      <td>.folder</td>\n",
       "      <td>8.folder</td>\n",
       "      <td>/Users/spencerhong/Downloads/test_base/first/7...</td>\n",
       "      <td>7/8.folder</td>\n",
       "      <td>7</td>\n",
       "    </tr>\n",
       "    <tr>\n",
       "      <th>6</th>\n",
       "      <td>5</td>\n",
       "      <td>first</td>\n",
       "      <td>.docx</td>\n",
       "      <td>The Genomics and the Human Genome archive at t...</td>\n",
       "      <td>/Users/spencerhong/Downloads/test_base/first/1...</td>\n",
       "      <td>1/f5.docx/The Genomics and the Human Genome ar...</td>\n",
       "      <td>1</td>\n",
       "    </tr>\n",
       "    <tr>\n",
       "      <th>8</th>\n",
       "      <td>11</td>\n",
       "      <td>first</td>\n",
       "      <td>.csv</td>\n",
       "      <td>eastside.csv</td>\n",
       "      <td>/Users/spencerhong/Downloads/test_base/first/1...</td>\n",
       "      <td>10/f11.csv/eastside.csv</td>\n",
       "      <td>10</td>\n",
       "    </tr>\n",
       "    <tr>\n",
       "      <th>10</th>\n",
       "      <td>10</td>\n",
       "      <td>first</td>\n",
       "      <td>.folder</td>\n",
       "      <td>10.folder</td>\n",
       "      <td>/Users/spencerhong/Downloads/test_base/first/8...</td>\n",
       "      <td>8/10.folder</td>\n",
       "      <td>8</td>\n",
       "    </tr>\n",
       "    <tr>\n",
       "      <th>11</th>\n",
       "      <td>9</td>\n",
       "      <td>first</td>\n",
       "      <td>.pdf</td>\n",
       "      <td>HPC - COI Form.pdf</td>\n",
       "      <td>/Users/spencerhong/Downloads/test_base/first/8...</td>\n",
       "      <td>8/f9.pdf/HPC - COI Form.pdf</td>\n",
       "      <td>8</td>\n",
       "    </tr>\n",
       "  </tbody>\n",
       "</table>\n",
       "</div>"
      ],
      "text/plain": [
       "   containerID filePhase fileExtension  \\\n",
       "4            8     first       .folder   \n",
       "6            5     first         .docx   \n",
       "8           11     first          .csv   \n",
       "10          10     first       .folder   \n",
       "11           9     first          .pdf   \n",
       "\n",
       "                                         originalName  \\\n",
       "4                                            8.folder   \n",
       "6   The Genomics and the Human Genome archive at t...   \n",
       "8                                        eastside.csv   \n",
       "10                                          10.folder   \n",
       "11                                 HPC - COI Form.pdf   \n",
       "\n",
       "                                         originalPath  \\\n",
       "4   /Users/spencerhong/Downloads/test_base/first/7...   \n",
       "6   /Users/spencerhong/Downloads/test_base/first/1...   \n",
       "8   /Users/spencerhong/Downloads/test_base/first/1...   \n",
       "10  /Users/spencerhong/Downloads/test_base/first/8...   \n",
       "11  /Users/spencerhong/Downloads/test_base/first/8...   \n",
       "\n",
       "                                         relativePath parentID  \n",
       "4                                          7/8.folder        7  \n",
       "6   1/f5.docx/The Genomics and the Human Genome ar...        1  \n",
       "8                             10/f11.csv/eastside.csv       10  \n",
       "10                                        8/10.folder        8  \n",
       "11                        8/f9.pdf/HPC - COI Form.pdf        8  "
      ]
     },
     "execution_count": 38,
     "metadata": {},
     "output_type": "execute_result"
    }
   ],
   "source": [
    "pd.DataFrame.from_dict(ids, orient = 'index')"
   ]
  },
  {
   "cell_type": "code",
   "execution_count": 52,
   "id": "f6ab23e8",
   "metadata": {
    "ExecuteTime": {
     "end_time": "2021-11-24T20:58:03.675950Z",
     "start_time": "2021-11-24T20:58:03.667896Z"
    }
   },
   "outputs": [],
   "source": [
    "test_base.database= pd.concat([test_base.database.iloc[:-5], pd.DataFrame.from_dict(ids, orient = 'index')], ignore_index=True)"
   ]
  },
  {
   "cell_type": "code",
   "execution_count": 56,
   "id": "724da297",
   "metadata": {
    "ExecuteTime": {
     "end_time": "2021-11-24T21:48:16.021559Z",
     "start_time": "2021-11-24T21:48:16.004469Z"
    }
   },
   "outputs": [
    {
     "data": {
      "text/html": [
       "<div>\n",
       "<style scoped>\n",
       "    .dataframe tbody tr th:only-of-type {\n",
       "        vertical-align: middle;\n",
       "    }\n",
       "\n",
       "    .dataframe tbody tr th {\n",
       "        vertical-align: top;\n",
       "    }\n",
       "\n",
       "    .dataframe thead th {\n",
       "        text-align: right;\n",
       "    }\n",
       "</style>\n",
       "<table border=\"1\" class=\"dataframe\">\n",
       "  <thead>\n",
       "    <tr style=\"text-align: right;\">\n",
       "      <th></th>\n",
       "      <th>containerID</th>\n",
       "      <th>filePhase</th>\n",
       "      <th>fileExtension</th>\n",
       "      <th>originalName</th>\n",
       "      <th>originalPath</th>\n",
       "      <th>relativePath</th>\n",
       "      <th>parentID</th>\n",
       "    </tr>\n",
       "  </thead>\n",
       "  <tbody>\n",
       "    <tr>\n",
       "      <th>0</th>\n",
       "      <td>1</td>\n",
       "      <td>base</td>\n",
       "      <td>.folder</td>\n",
       "      <td>test</td>\n",
       "      <td>/Users/spencerhong/Downloads/test_folder/test</td>\n",
       "      <td>test</td>\n",
       "      <td>0</td>\n",
       "    </tr>\n",
       "    <tr>\n",
       "      <th>1</th>\n",
       "      <td>2</td>\n",
       "      <td>base</td>\n",
       "      <td>.pdf</td>\n",
       "      <td>HumanGenomeProjectREVIEWfinal.pdf</td>\n",
       "      <td>/Users/spencerhong/Downloads/test_folder/Human...</td>\n",
       "      <td>HumanGenomeProjectREVIEWfinal.pdf</td>\n",
       "      <td>0</td>\n",
       "    </tr>\n",
       "    <tr>\n",
       "      <th>2</th>\n",
       "      <td>3</td>\n",
       "      <td>base</td>\n",
       "      <td>.png</td>\n",
       "      <td>nhgriarchive.png</td>\n",
       "      <td>/Users/spencerhong/Downloads/test_folder/nhgri...</td>\n",
       "      <td>nhgriarchive.png</td>\n",
       "      <td>0</td>\n",
       "    </tr>\n",
       "    <tr>\n",
       "      <th>3</th>\n",
       "      <td>4</td>\n",
       "      <td>base</td>\n",
       "      <td>.folder</td>\n",
       "      <td>folder_dream</td>\n",
       "      <td>/Users/spencerhong/Downloads/test_folder/test/...</td>\n",
       "      <td>test/folder_dream</td>\n",
       "      <td>1</td>\n",
       "    </tr>\n",
       "    <tr>\n",
       "      <th>4</th>\n",
       "      <td>5</td>\n",
       "      <td>base</td>\n",
       "      <td>.docx</td>\n",
       "      <td>The Genomics and the Human Genome archive at t...</td>\n",
       "      <td>/Users/spencerhong/Downloads/test_folder/test/...</td>\n",
       "      <td>test/The Genomics and the Human Genome archive...</td>\n",
       "      <td>1</td>\n",
       "    </tr>\n",
       "    <tr>\n",
       "      <th>8</th>\n",
       "      <td>5</td>\n",
       "      <td>first</td>\n",
       "      <td>.docx</td>\n",
       "      <td>The Genomics and the Human Genome archive at t...</td>\n",
       "      <td>/Users/spencerhong/Downloads/test_base/first/1...</td>\n",
       "      <td>1/f5.docx/The Genomics and the Human Genome ar...</td>\n",
       "      <td>1</td>\n",
       "    </tr>\n",
       "    <tr>\n",
       "      <th>5</th>\n",
       "      <td>6</td>\n",
       "      <td>base</td>\n",
       "      <td>.png</td>\n",
       "      <td>NHGRI Archive.png</td>\n",
       "      <td>/Users/spencerhong/Downloads/test_folder/test/...</td>\n",
       "      <td>test/folder_dream/NHGRI Archive.png</td>\n",
       "      <td>4</td>\n",
       "    </tr>\n",
       "    <tr>\n",
       "      <th>6</th>\n",
       "      <td>7</td>\n",
       "      <td>base</td>\n",
       "      <td>.zip</td>\n",
       "      <td>Archive.zip</td>\n",
       "      <td>/Users/spencerhong/Downloads/test_folder/test/...</td>\n",
       "      <td>test/folder_dream/Archive.zip</td>\n",
       "      <td>4</td>\n",
       "    </tr>\n",
       "    <tr>\n",
       "      <th>7</th>\n",
       "      <td>8</td>\n",
       "      <td>first</td>\n",
       "      <td>.folder</td>\n",
       "      <td>8.folder</td>\n",
       "      <td>/Users/spencerhong/Downloads/test_base/first/7...</td>\n",
       "      <td>7/8.folder</td>\n",
       "      <td>7</td>\n",
       "    </tr>\n",
       "    <tr>\n",
       "      <th>11</th>\n",
       "      <td>9</td>\n",
       "      <td>first</td>\n",
       "      <td>.pdf</td>\n",
       "      <td>HPC - COI Form.pdf</td>\n",
       "      <td>/Users/spencerhong/Downloads/test_base/first/8...</td>\n",
       "      <td>8/f9.pdf/HPC - COI Form.pdf</td>\n",
       "      <td>8</td>\n",
       "    </tr>\n",
       "    <tr>\n",
       "      <th>10</th>\n",
       "      <td>10</td>\n",
       "      <td>first</td>\n",
       "      <td>.folder</td>\n",
       "      <td>10.folder</td>\n",
       "      <td>/Users/spencerhong/Downloads/test_base/first/8...</td>\n",
       "      <td>8/10.folder</td>\n",
       "      <td>8</td>\n",
       "    </tr>\n",
       "    <tr>\n",
       "      <th>9</th>\n",
       "      <td>11</td>\n",
       "      <td>first</td>\n",
       "      <td>.csv</td>\n",
       "      <td>eastside.csv</td>\n",
       "      <td>/Users/spencerhong/Downloads/test_base/first/1...</td>\n",
       "      <td>10/f11.csv/eastside.csv</td>\n",
       "      <td>10</td>\n",
       "    </tr>\n",
       "  </tbody>\n",
       "</table>\n",
       "</div>"
      ],
      "text/plain": [
       "   containerID filePhase fileExtension  \\\n",
       "0            1      base       .folder   \n",
       "1            2      base          .pdf   \n",
       "2            3      base          .png   \n",
       "3            4      base       .folder   \n",
       "4            5      base         .docx   \n",
       "8            5     first         .docx   \n",
       "5            6      base          .png   \n",
       "6            7      base          .zip   \n",
       "7            8     first       .folder   \n",
       "11           9     first          .pdf   \n",
       "10          10     first       .folder   \n",
       "9           11     first          .csv   \n",
       "\n",
       "                                         originalName  \\\n",
       "0                                                test   \n",
       "1                   HumanGenomeProjectREVIEWfinal.pdf   \n",
       "2                                    nhgriarchive.png   \n",
       "3                                        folder_dream   \n",
       "4   The Genomics and the Human Genome archive at t...   \n",
       "8   The Genomics and the Human Genome archive at t...   \n",
       "5                                   NHGRI Archive.png   \n",
       "6                                         Archive.zip   \n",
       "7                                            8.folder   \n",
       "11                                 HPC - COI Form.pdf   \n",
       "10                                          10.folder   \n",
       "9                                        eastside.csv   \n",
       "\n",
       "                                         originalPath  \\\n",
       "0       /Users/spencerhong/Downloads/test_folder/test   \n",
       "1   /Users/spencerhong/Downloads/test_folder/Human...   \n",
       "2   /Users/spencerhong/Downloads/test_folder/nhgri...   \n",
       "3   /Users/spencerhong/Downloads/test_folder/test/...   \n",
       "4   /Users/spencerhong/Downloads/test_folder/test/...   \n",
       "8   /Users/spencerhong/Downloads/test_base/first/1...   \n",
       "5   /Users/spencerhong/Downloads/test_folder/test/...   \n",
       "6   /Users/spencerhong/Downloads/test_folder/test/...   \n",
       "7   /Users/spencerhong/Downloads/test_base/first/7...   \n",
       "11  /Users/spencerhong/Downloads/test_base/first/8...   \n",
       "10  /Users/spencerhong/Downloads/test_base/first/8...   \n",
       "9   /Users/spencerhong/Downloads/test_base/first/1...   \n",
       "\n",
       "                                         relativePath parentID  \n",
       "0                                                test        0  \n",
       "1                   HumanGenomeProjectREVIEWfinal.pdf        0  \n",
       "2                                    nhgriarchive.png        0  \n",
       "3                                   test/folder_dream        1  \n",
       "4   test/The Genomics and the Human Genome archive...        1  \n",
       "8   1/f5.docx/The Genomics and the Human Genome ar...        1  \n",
       "5                 test/folder_dream/NHGRI Archive.png        4  \n",
       "6                       test/folder_dream/Archive.zip        4  \n",
       "7                                          7/8.folder        7  \n",
       "11                        8/f9.pdf/HPC - COI Form.pdf        8  \n",
       "10                                        8/10.folder        8  \n",
       "9                             10/f11.csv/eastside.csv       10  "
      ]
     },
     "execution_count": 56,
     "metadata": {},
     "output_type": "execute_result"
    }
   ],
   "source": [
    "test_base.database = test_base.database.sort_values(['containerID', 'filePhase'])\n",
    "\n",
    "\n",
    "test_base.database"
   ]
  },
  {
   "cell_type": "code",
   "execution_count": 55,
   "id": "2502e8f5",
   "metadata": {
    "ExecuteTime": {
     "end_time": "2021-11-24T21:01:15.615180Z",
     "start_time": "2021-11-24T21:01:15.604246Z"
    }
   },
   "outputs": [
    {
     "data": {
      "text/html": [
       "<div>\n",
       "<style scoped>\n",
       "    .dataframe tbody tr th:only-of-type {\n",
       "        vertical-align: middle;\n",
       "    }\n",
       "\n",
       "    .dataframe tbody tr th {\n",
       "        vertical-align: top;\n",
       "    }\n",
       "\n",
       "    .dataframe thead th {\n",
       "        text-align: right;\n",
       "    }\n",
       "</style>\n",
       "<table border=\"1\" class=\"dataframe\">\n",
       "  <thead>\n",
       "    <tr style=\"text-align: right;\">\n",
       "      <th></th>\n",
       "      <th>filePhase</th>\n",
       "      <th>fileExtension</th>\n",
       "      <th>originalName</th>\n",
       "      <th>originalPath</th>\n",
       "      <th>relativePath</th>\n",
       "      <th>parentID</th>\n",
       "    </tr>\n",
       "    <tr>\n",
       "      <th>containerID</th>\n",
       "      <th></th>\n",
       "      <th></th>\n",
       "      <th></th>\n",
       "      <th></th>\n",
       "      <th></th>\n",
       "      <th></th>\n",
       "    </tr>\n",
       "  </thead>\n",
       "  <tbody>\n",
       "    <tr>\n",
       "      <th>1</th>\n",
       "      <td>1</td>\n",
       "      <td>1</td>\n",
       "      <td>1</td>\n",
       "      <td>1</td>\n",
       "      <td>1</td>\n",
       "      <td>1</td>\n",
       "    </tr>\n",
       "    <tr>\n",
       "      <th>2</th>\n",
       "      <td>1</td>\n",
       "      <td>1</td>\n",
       "      <td>1</td>\n",
       "      <td>1</td>\n",
       "      <td>1</td>\n",
       "      <td>1</td>\n",
       "    </tr>\n",
       "    <tr>\n",
       "      <th>3</th>\n",
       "      <td>1</td>\n",
       "      <td>1</td>\n",
       "      <td>1</td>\n",
       "      <td>1</td>\n",
       "      <td>1</td>\n",
       "      <td>1</td>\n",
       "    </tr>\n",
       "    <tr>\n",
       "      <th>4</th>\n",
       "      <td>1</td>\n",
       "      <td>1</td>\n",
       "      <td>1</td>\n",
       "      <td>1</td>\n",
       "      <td>1</td>\n",
       "      <td>1</td>\n",
       "    </tr>\n",
       "    <tr>\n",
       "      <th>5</th>\n",
       "      <td>2</td>\n",
       "      <td>2</td>\n",
       "      <td>2</td>\n",
       "      <td>2</td>\n",
       "      <td>2</td>\n",
       "      <td>2</td>\n",
       "    </tr>\n",
       "    <tr>\n",
       "      <th>6</th>\n",
       "      <td>1</td>\n",
       "      <td>1</td>\n",
       "      <td>1</td>\n",
       "      <td>1</td>\n",
       "      <td>1</td>\n",
       "      <td>1</td>\n",
       "    </tr>\n",
       "    <tr>\n",
       "      <th>7</th>\n",
       "      <td>1</td>\n",
       "      <td>1</td>\n",
       "      <td>1</td>\n",
       "      <td>1</td>\n",
       "      <td>1</td>\n",
       "      <td>1</td>\n",
       "    </tr>\n",
       "    <tr>\n",
       "      <th>8</th>\n",
       "      <td>1</td>\n",
       "      <td>1</td>\n",
       "      <td>1</td>\n",
       "      <td>1</td>\n",
       "      <td>1</td>\n",
       "      <td>1</td>\n",
       "    </tr>\n",
       "    <tr>\n",
       "      <th>9</th>\n",
       "      <td>1</td>\n",
       "      <td>1</td>\n",
       "      <td>1</td>\n",
       "      <td>1</td>\n",
       "      <td>1</td>\n",
       "      <td>1</td>\n",
       "    </tr>\n",
       "    <tr>\n",
       "      <th>10</th>\n",
       "      <td>1</td>\n",
       "      <td>1</td>\n",
       "      <td>1</td>\n",
       "      <td>1</td>\n",
       "      <td>1</td>\n",
       "      <td>1</td>\n",
       "    </tr>\n",
       "    <tr>\n",
       "      <th>11</th>\n",
       "      <td>1</td>\n",
       "      <td>1</td>\n",
       "      <td>1</td>\n",
       "      <td>1</td>\n",
       "      <td>1</td>\n",
       "      <td>1</td>\n",
       "    </tr>\n",
       "  </tbody>\n",
       "</table>\n",
       "</div>"
      ],
      "text/plain": [
       "             filePhase  fileExtension  originalName  originalPath  \\\n",
       "containerID                                                         \n",
       "1                    1              1             1             1   \n",
       "2                    1              1             1             1   \n",
       "3                    1              1             1             1   \n",
       "4                    1              1             1             1   \n",
       "5                    2              2             2             2   \n",
       "6                    1              1             1             1   \n",
       "7                    1              1             1             1   \n",
       "8                    1              1             1             1   \n",
       "9                    1              1             1             1   \n",
       "10                   1              1             1             1   \n",
       "11                   1              1             1             1   \n",
       "\n",
       "             relativePath  parentID  \n",
       "containerID                          \n",
       "1                       1         1  \n",
       "2                       1         1  \n",
       "3                       1         1  \n",
       "4                       1         1  \n",
       "5                       2         2  \n",
       "6                       1         1  \n",
       "7                       1         1  \n",
       "8                       1         1  \n",
       "9                       1         1  \n",
       "10                      1         1  \n",
       "11                      1         1  "
      ]
     },
     "execution_count": 55,
     "metadata": {},
     "output_type": "execute_result"
    }
   ],
   "source": [
    "### to unzip and defolder script\n",
    "import zipfile\n",
    "\n",
    "while zip_list is not empty:\n",
    "    make_folder_in_layer\n",
    "    extract in the tmp folder of each zip folder\n",
    "    \n",
    "    for file in tmp:\n",
    "        if zip:\n",
    "            assign file id\n",
    "            add to the zip_list\n",
    "        elif folder:\n",
    "            assign fle id \n",
    "            make a .folder in the zip folder\n",
    "            make a folder in layer\n",
    "        else:\n",
    "            assign file id\n",
    "            make a folder inside the parent container\n",
    "            copy the file into the folder\n",
    "        \n",
    "\n",
    "        \n",
    "zip_list = test_base.database.loc[test_base.database.fileExtension == '.zip']['relativePath']\n",
    "\n",
    "while len(zip_list) != 0:\n",
    "    base.make_folder(Path())\n",
    "            "
   ]
  },
  {
   "cell_type": "code",
   "execution_count": 6,
   "id": "7a0480d6",
   "metadata": {
    "ExecuteTime": {
     "end_time": "2021-11-22T22:10:00.206397Z",
     "start_time": "2021-11-22T22:10:00.202255Z"
    }
   },
   "outputs": [],
   "source": [
    "test_base.set_layer(layer_name = 'first', layer_description = 'first layer', pipeline_id = '001')"
   ]
  },
  {
   "cell_type": "code",
   "execution_count": 7,
   "id": "03479556",
   "metadata": {
    "ExecuteTime": {
     "end_time": "2021-11-22T22:04:35.621271Z",
     "start_time": "2021-11-22T22:04:35.617348Z"
    }
   },
   "outputs": [
    {
     "data": {
      "text/plain": [
       "[<layer.Layer at 0x7f989d1abf50>]"
      ]
     },
     "execution_count": 7,
     "metadata": {},
     "output_type": "execute_result"
    }
   ],
   "source": [
    "test_base.layers"
   ]
  },
  {
   "cell_type": "code",
   "execution_count": null,
   "id": "5f499ca9",
   "metadata": {},
   "outputs": [],
   "source": []
  },
  {
   "cell_type": "code",
   "execution_count": 13,
   "id": "b12cb29c",
   "metadata": {
    "ExecuteTime": {
     "end_time": "2021-11-09T22:55:03.680262Z",
     "start_time": "2021-11-09T22:55:03.676568Z"
    }
   },
   "outputs": [],
   "source": [
    "test_base.set_files('first')\n"
   ]
  },
  {
   "cell_type": "code",
   "execution_count": 14,
   "id": "2ee9f361",
   "metadata": {
    "ExecuteTime": {
     "end_time": "2021-11-09T22:55:04.653220Z",
     "start_time": "2021-11-09T22:55:04.649333Z"
    }
   },
   "outputs": [
    {
     "data": {
      "text/plain": [
       "[0, 1, 2, 3]"
      ]
     },
     "execution_count": 14,
     "metadata": {},
     "output_type": "execute_result"
    }
   ],
   "source": [
    "test_base.base_files"
   ]
  },
  {
   "cell_type": "code",
   "execution_count": 15,
   "id": "81d6d043",
   "metadata": {
    "ExecuteTime": {
     "end_time": "2021-11-09T22:55:04.818243Z",
     "start_time": "2021-11-09T22:55:04.814036Z"
    }
   },
   "outputs": [
    {
     "data": {
      "text/plain": [
       "{'0': {'filephases': [0, 1], 'layers': ['base', 'first']},\n",
       " '1': {'filephases': [0, None], 'layers': ['base', None]},\n",
       " '2': {'filephases': [0, None], 'layers': ['base', None]},\n",
       " '3': {'filephases': [0, None], 'layers': ['base', None]}}"
      ]
     },
     "execution_count": 15,
     "metadata": {},
     "output_type": "execute_result"
    }
   ],
   "source": [
    "test_base.filephases"
   ]
  },
  {
   "cell_type": "code",
   "execution_count": 16,
   "id": "75944475",
   "metadata": {
    "ExecuteTime": {
     "end_time": "2021-11-09T22:55:04.985911Z",
     "start_time": "2021-11-09T22:55:04.982088Z"
    }
   },
   "outputs": [
    {
     "data": {
      "text/plain": [
       "{'0': 1, '1': None, '2': None, '3': None}"
      ]
     },
     "execution_count": 16,
     "metadata": {},
     "output_type": "execute_result"
    }
   ],
   "source": [
    "test_base.return_current_phases()"
   ]
  },
  {
   "cell_type": "code",
   "execution_count": 17,
   "id": "cb3b0360",
   "metadata": {
    "ExecuteTime": {
     "end_time": "2021-11-09T22:55:05.134528Z",
     "start_time": "2021-11-09T22:55:05.130984Z"
    }
   },
   "outputs": [
    {
     "data": {
      "text/plain": [
       "{'0': [0, 1], '1': [0, None], '2': [0, None], '3': [0, None]}"
      ]
     },
     "execution_count": 17,
     "metadata": {},
     "output_type": "execute_result"
    }
   ],
   "source": [
    "test_base.return_build()"
   ]
  },
  {
   "cell_type": "code",
   "execution_count": 18,
   "id": "0159195e",
   "metadata": {
    "ExecuteTime": {
     "end_time": "2021-11-09T22:55:05.786643Z",
     "start_time": "2021-11-09T22:55:05.782501Z"
    }
   },
   "outputs": [
    {
     "data": {
      "text/plain": [
       "{'0': 'first', '1': None, '2': None, '3': None}"
      ]
     },
     "execution_count": 18,
     "metadata": {},
     "output_type": "execute_result"
    }
   ],
   "source": [
    "test_base.return_current_layers()"
   ]
  },
  {
   "cell_type": "markdown",
   "id": "59a35d15",
   "metadata": {},
   "source": [
    "    clearly, only file 0 is at layer 1, and the rest are at base still."
   ]
  },
  {
   "cell_type": "code",
   "execution_count": 19,
   "id": "c741f1eb",
   "metadata": {
    "ExecuteTime": {
     "end_time": "2021-11-09T22:55:10.624176Z",
     "start_time": "2021-11-09T22:55:10.621540Z"
    }
   },
   "outputs": [],
   "source": [
    "# test if this hierarchy can be read from files only.\n",
    "\n",
    "\n",
    "new_base = base.Base(fake_base, description = 'loading')"
   ]
  },
  {
   "cell_type": "code",
   "execution_count": 20,
   "id": "e1376ce9",
   "metadata": {
    "ExecuteTime": {
     "end_time": "2021-11-09T22:55:11.594551Z",
     "start_time": "2021-11-09T22:55:11.591298Z"
    }
   },
   "outputs": [],
   "source": [
    "new_base.read()"
   ]
  },
  {
   "cell_type": "code",
   "execution_count": 21,
   "id": "1eb1fc61",
   "metadata": {
    "ExecuteTime": {
     "end_time": "2021-11-09T22:55:26.014429Z",
     "start_time": "2021-11-09T22:55:26.010306Z"
    }
   },
   "outputs": [
    {
     "data": {
      "text/plain": [
       "{'0': 1, '1': None, '2': None, '3': None}"
      ]
     },
     "execution_count": 21,
     "metadata": {},
     "output_type": "execute_result"
    }
   ],
   "source": [
    "new_base.return_current_phases()"
   ]
  },
  {
   "cell_type": "code",
   "execution_count": 22,
   "id": "4089d2ee",
   "metadata": {
    "ExecuteTime": {
     "end_time": "2021-11-09T23:00:41.185607Z",
     "start_time": "2021-11-09T23:00:41.181813Z"
    }
   },
   "outputs": [
    {
     "data": {
      "text/plain": [
       "[0, 1, 2, 3]"
      ]
     },
     "execution_count": 22,
     "metadata": {},
     "output_type": "execute_result"
    }
   ],
   "source": [
    "new_base.base_files"
   ]
  },
  {
   "cell_type": "markdown",
   "id": "fe3ceeb8",
   "metadata": {},
   "source": [
    "    now we can load from an existing base that contains a base-layer-layer approach."
   ]
  },
  {
   "cell_type": "code",
   "execution_count": null,
   "id": "a6403fc9",
   "metadata": {},
   "outputs": [],
   "source": []
  }
 ],
 "metadata": {
  "kernelspec": {
   "display_name": "Python 3",
   "language": "python",
   "name": "python3"
  },
  "language_info": {
   "codemirror_mode": {
    "name": "ipython",
    "version": 3
   },
   "file_extension": ".py",
   "mimetype": "text/x-python",
   "name": "python",
   "nbconvert_exporter": "python",
   "pygments_lexer": "ipython3",
   "version": "3.7.10"
  },
  "latex_envs": {
   "LaTeX_envs_menu_present": true,
   "autoclose": false,
   "autocomplete": true,
   "bibliofile": "biblio.bib",
   "cite_by": "apalike",
   "current_citInitial": 1,
   "eqLabelWithNumbers": true,
   "eqNumInitial": 1,
   "hotkeys": {
    "equation": "Ctrl-E",
    "itemize": "Ctrl-I"
   },
   "labels_anchors": false,
   "latex_user_defs": false,
   "report_style_numbering": false,
   "user_envs_cfg": false
  },
  "toc": {
   "base_numbering": 1,
   "nav_menu": {},
   "number_sections": false,
   "sideBar": true,
   "skip_h1_title": false,
   "title_cell": "Table of Contents",
   "title_sidebar": "Contents",
   "toc_cell": false,
   "toc_position": {},
   "toc_section_display": true,
   "toc_window_display": false
  },
  "varInspector": {
   "cols": {
    "lenName": 16,
    "lenType": 16,
    "lenVar": 40
   },
   "kernels_config": {
    "python": {
     "delete_cmd_postfix": "",
     "delete_cmd_prefix": "del ",
     "library": "var_list.py",
     "varRefreshCmd": "print(var_dic_list())"
    },
    "r": {
     "delete_cmd_postfix": ") ",
     "delete_cmd_prefix": "rm(",
     "library": "var_list.r",
     "varRefreshCmd": "cat(var_dic_list()) "
    }
   },
   "types_to_exclude": [
    "module",
    "function",
    "builtin_function_or_method",
    "instance",
    "_Feature"
   ],
   "window_display": false
  }
 },
 "nbformat": 4,
 "nbformat_minor": 5
}
