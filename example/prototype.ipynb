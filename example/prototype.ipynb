{
 "cells": [
  {
   "cell_type": "code",
   "execution_count": 3,
   "id": "e57c24fb",
   "metadata": {
    "ExecuteTime": {
     "end_time": "2021-11-09T22:54:44.950986Z",
     "start_time": "2021-11-09T22:54:44.948226Z"
    }
   },
   "outputs": [],
   "source": [
    "import sys\n",
    "sys.path.insert(0,'../src/')\n",
    "\n",
    "import base"
   ]
  },
  {
   "cell_type": "code",
   "execution_count": 4,
   "id": "436ca497",
   "metadata": {
    "ExecuteTime": {
     "end_time": "2021-11-09T22:54:45.186200Z",
     "start_time": "2021-11-09T22:54:45.183474Z"
    }
   },
   "outputs": [],
   "source": [
    "fake_folder_with_files = '/Users/spencerhong/Downloads/test_folder/'\n",
    "fake_base = '/Users/spencerhong/Downloads/test_base/'\n",
    "\n",
    "test_base = base.Base(fake_base, description = 'test')"
   ]
  },
  {
   "cell_type": "code",
   "execution_count": 5,
   "id": "012628f8",
   "metadata": {
    "ExecuteTime": {
     "end_time": "2021-11-09T22:54:45.409137Z",
     "start_time": "2021-11-09T22:54:45.385440Z"
    }
   },
   "outputs": [],
   "source": [
    "test_base.prepare_base(fake_folder_with_files)"
   ]
  },
  {
   "cell_type": "code",
   "execution_count": 6,
   "id": "0ee61e82",
   "metadata": {
    "ExecuteTime": {
     "end_time": "2021-11-09T22:54:45.653734Z",
     "start_time": "2021-11-09T22:54:45.650517Z"
    }
   },
   "outputs": [],
   "source": [
    "test_base.set_files('base')"
   ]
  },
  {
   "cell_type": "code",
   "execution_count": 7,
   "id": "c60321ec",
   "metadata": {
    "ExecuteTime": {
     "end_time": "2021-11-09T22:54:46.093612Z",
     "start_time": "2021-11-09T22:54:46.083010Z"
    }
   },
   "outputs": [
    {
     "data": {
      "text/plain": [
       "[0, 1, 2, 3]"
      ]
     },
     "execution_count": 7,
     "metadata": {},
     "output_type": "execute_result"
    }
   ],
   "source": [
    "test_base.base_files"
   ]
  },
  {
   "cell_type": "code",
   "execution_count": 8,
   "id": "1fde0fd3",
   "metadata": {
    "ExecuteTime": {
     "end_time": "2021-11-09T22:54:46.344602Z",
     "start_time": "2021-11-09T22:54:46.340393Z"
    }
   },
   "outputs": [
    {
     "data": {
      "text/plain": [
       "{'0': {'filephases': [0], 'layers': ['base']},\n",
       " '1': {'filephases': [0], 'layers': ['base']},\n",
       " '2': {'filephases': [0], 'layers': ['base']},\n",
       " '3': {'filephases': [0], 'layers': ['base']}}"
      ]
     },
     "execution_count": 8,
     "metadata": {},
     "output_type": "execute_result"
    }
   ],
   "source": [
    "test_base.filephases"
   ]
  },
  {
   "cell_type": "code",
   "execution_count": 9,
   "id": "4dd57b07",
   "metadata": {
    "ExecuteTime": {
     "end_time": "2021-11-09T22:54:46.919304Z",
     "start_time": "2021-11-09T22:54:46.915510Z"
    }
   },
   "outputs": [
    {
     "data": {
      "text/plain": [
       "{'0': 0, '1': 0, '2': 0, '3': 0}"
      ]
     },
     "execution_count": 9,
     "metadata": {},
     "output_type": "execute_result"
    }
   ],
   "source": [
    "test_base.return_current_phases()"
   ]
  },
  {
   "cell_type": "code",
   "execution_count": 10,
   "id": "dc68e0f7",
   "metadata": {
    "ExecuteTime": {
     "end_time": "2021-11-09T22:54:47.429195Z",
     "start_time": "2021-11-09T22:54:47.425904Z"
    }
   },
   "outputs": [
    {
     "data": {
      "text/plain": [
       "{'0': 'base', '1': 'base', '2': 'base', '3': 'base'}"
      ]
     },
     "execution_count": 10,
     "metadata": {},
     "output_type": "execute_result"
    }
   ],
   "source": [
    "test_base.return_current_layers()"
   ]
  },
  {
   "cell_type": "code",
   "execution_count": 11,
   "id": "be02297c",
   "metadata": {
    "ExecuteTime": {
     "end_time": "2021-11-09T22:54:47.835105Z",
     "start_time": "2021-11-09T22:54:47.831499Z"
    }
   },
   "outputs": [
    {
     "data": {
      "text/plain": [
       "{'0': [0], '1': [0], '2': [0], '3': [0]}"
      ]
     },
     "execution_count": 11,
     "metadata": {},
     "output_type": "execute_result"
    }
   ],
   "source": [
    "test_base.return_build()"
   ]
  },
  {
   "cell_type": "code",
   "execution_count": 12,
   "id": "7a0480d6",
   "metadata": {
    "ExecuteTime": {
     "end_time": "2021-11-09T22:54:49.165228Z",
     "start_time": "2021-11-09T22:54:49.161521Z"
    }
   },
   "outputs": [],
   "source": [
    "test_base.set_layer('first layer', '001', 'first')"
   ]
  },
  {
   "cell_type": "code",
   "execution_count": null,
   "id": "0dcf9d45",
   "metadata": {},
   "outputs": [],
   "source": []
  },
  {
   "cell_type": "code",
   "execution_count": 13,
   "id": "b12cb29c",
   "metadata": {
    "ExecuteTime": {
     "end_time": "2021-11-09T22:55:03.680262Z",
     "start_time": "2021-11-09T22:55:03.676568Z"
    }
   },
   "outputs": [],
   "source": [
    "test_base.set_files('first')\n"
   ]
  },
  {
   "cell_type": "code",
   "execution_count": 14,
   "id": "2ee9f361",
   "metadata": {
    "ExecuteTime": {
     "end_time": "2021-11-09T22:55:04.653220Z",
     "start_time": "2021-11-09T22:55:04.649333Z"
    }
   },
   "outputs": [
    {
     "data": {
      "text/plain": [
       "[0, 1, 2, 3]"
      ]
     },
     "execution_count": 14,
     "metadata": {},
     "output_type": "execute_result"
    }
   ],
   "source": [
    "test_base.base_files"
   ]
  },
  {
   "cell_type": "code",
   "execution_count": 15,
   "id": "81d6d043",
   "metadata": {
    "ExecuteTime": {
     "end_time": "2021-11-09T22:55:04.818243Z",
     "start_time": "2021-11-09T22:55:04.814036Z"
    }
   },
   "outputs": [
    {
     "data": {
      "text/plain": [
       "{'0': {'filephases': [0, 1], 'layers': ['base', 'first']},\n",
       " '1': {'filephases': [0, None], 'layers': ['base', None]},\n",
       " '2': {'filephases': [0, None], 'layers': ['base', None]},\n",
       " '3': {'filephases': [0, None], 'layers': ['base', None]}}"
      ]
     },
     "execution_count": 15,
     "metadata": {},
     "output_type": "execute_result"
    }
   ],
   "source": [
    "test_base.filephases"
   ]
  },
  {
   "cell_type": "code",
   "execution_count": 16,
   "id": "75944475",
   "metadata": {
    "ExecuteTime": {
     "end_time": "2021-11-09T22:55:04.985911Z",
     "start_time": "2021-11-09T22:55:04.982088Z"
    }
   },
   "outputs": [
    {
     "data": {
      "text/plain": [
       "{'0': 1, '1': None, '2': None, '3': None}"
      ]
     },
     "execution_count": 16,
     "metadata": {},
     "output_type": "execute_result"
    }
   ],
   "source": [
    "test_base.return_current_phases()"
   ]
  },
  {
   "cell_type": "code",
   "execution_count": 17,
   "id": "cb3b0360",
   "metadata": {
    "ExecuteTime": {
     "end_time": "2021-11-09T22:55:05.134528Z",
     "start_time": "2021-11-09T22:55:05.130984Z"
    }
   },
   "outputs": [
    {
     "data": {
      "text/plain": [
       "{'0': [0, 1], '1': [0, None], '2': [0, None], '3': [0, None]}"
      ]
     },
     "execution_count": 17,
     "metadata": {},
     "output_type": "execute_result"
    }
   ],
   "source": [
    "test_base.return_build()"
   ]
  },
  {
   "cell_type": "code",
   "execution_count": 18,
   "id": "0159195e",
   "metadata": {
    "ExecuteTime": {
     "end_time": "2021-11-09T22:55:05.786643Z",
     "start_time": "2021-11-09T22:55:05.782501Z"
    }
   },
   "outputs": [
    {
     "data": {
      "text/plain": [
       "{'0': 'first', '1': None, '2': None, '3': None}"
      ]
     },
     "execution_count": 18,
     "metadata": {},
     "output_type": "execute_result"
    }
   ],
   "source": [
    "test_base.return_current_layers()"
   ]
  },
  {
   "cell_type": "code",
   "execution_count": 19,
   "id": "c741f1eb",
   "metadata": {
    "ExecuteTime": {
     "end_time": "2021-11-09T22:55:10.624176Z",
     "start_time": "2021-11-09T22:55:10.621540Z"
    }
   },
   "outputs": [],
   "source": [
    "# test if this hierarchy can be read from files only.\n",
    "\n",
    "\n",
    "new_base = base.Base(fake_base, description = 'loading')"
   ]
  },
  {
   "cell_type": "code",
   "execution_count": 20,
   "id": "ef9a7e04",
   "metadata": {
    "ExecuteTime": {
     "end_time": "2021-11-09T22:55:11.594551Z",
     "start_time": "2021-11-09T22:55:11.591298Z"
    }
   },
   "outputs": [],
   "source": [
    "new_base.read()"
   ]
  },
  {
   "cell_type": "code",
   "execution_count": 21,
   "id": "918db35e",
   "metadata": {
    "ExecuteTime": {
     "end_time": "2021-11-09T22:55:26.014429Z",
     "start_time": "2021-11-09T22:55:26.010306Z"
    }
   },
   "outputs": [
    {
     "data": {
      "text/plain": [
       "{'0': 1, '1': None, '2': None, '3': None}"
      ]
     },
     "execution_count": 21,
     "metadata": {},
     "output_type": "execute_result"
    }
   ],
   "source": [
    "new_base.return_current_phases()"
   ]
  },
  {
   "cell_type": "code",
   "execution_count": null,
   "id": "f48a909d",
   "metadata": {},
   "outputs": [],
   "source": []
  }
 ],
 "metadata": {
  "kernelspec": {
   "display_name": "Python 3",
   "language": "python",
   "name": "python3"
  },
  "language_info": {
   "codemirror_mode": {
    "name": "ipython",
    "version": 3
   },
   "file_extension": ".py",
   "mimetype": "text/x-python",
   "name": "python",
   "nbconvert_exporter": "python",
   "pygments_lexer": "ipython3",
   "version": "3.7.10"
  },
  "latex_envs": {
   "LaTeX_envs_menu_present": true,
   "autoclose": false,
   "autocomplete": true,
   "bibliofile": "biblio.bib",
   "cite_by": "apalike",
   "current_citInitial": 1,
   "eqLabelWithNumbers": true,
   "eqNumInitial": 1,
   "hotkeys": {
    "equation": "Ctrl-E",
    "itemize": "Ctrl-I"
   },
   "labels_anchors": false,
   "latex_user_defs": false,
   "report_style_numbering": false,
   "user_envs_cfg": false
  },
  "toc": {
   "base_numbering": 1,
   "nav_menu": {},
   "number_sections": false,
   "sideBar": true,
   "skip_h1_title": false,
   "title_cell": "Table of Contents",
   "title_sidebar": "Contents",
   "toc_cell": false,
   "toc_position": {},
   "toc_section_display": true,
   "toc_window_display": false
  },
  "varInspector": {
   "cols": {
    "lenName": 16,
    "lenType": 16,
    "lenVar": 40
   },
   "kernels_config": {
    "python": {
     "delete_cmd_postfix": "",
     "delete_cmd_prefix": "del ",
     "library": "var_list.py",
     "varRefreshCmd": "print(var_dic_list())"
    },
    "r": {
     "delete_cmd_postfix": ") ",
     "delete_cmd_prefix": "rm(",
     "library": "var_list.r",
     "varRefreshCmd": "cat(var_dic_list()) "
    }
   },
   "types_to_exclude": [
    "module",
    "function",
    "builtin_function_or_method",
    "instance",
    "_Feature"
   ],
   "window_display": false
  }
 },
 "nbformat": 4,
 "nbformat_minor": 5
}
